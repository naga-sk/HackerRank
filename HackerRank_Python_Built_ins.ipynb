{
  "nbformat": 4,
  "nbformat_minor": 0,
  "metadata": {
    "colab": {
      "name": "HackerRank-Python-Built-ins.ipynb",
      "provenance": [],
      "authorship_tag": "ABX9TyNpG6bRLEQOtIIttSj8AgKe",
      "include_colab_link": true
    },
    "kernelspec": {
      "name": "python3",
      "display_name": "Python 3"
    },
    "language_info": {
      "name": "python"
    }
  },
  "cells": [
    {
      "cell_type": "markdown",
      "metadata": {
        "id": "view-in-github",
        "colab_type": "text"
      },
      "source": [
        "<a href=\"https://colab.research.google.com/github/naga-sk/HackerRank/blob/main/HackerRank_Python_Built_ins.ipynb\" target=\"_parent\"><img src=\"https://colab.research.google.com/assets/colab-badge.svg\" alt=\"Open In Colab\"/></a>"
      ]
    },
    {
      "cell_type": "markdown",
      "source": [
        "# Zipped!\n",
        "https://www.hackerrank.com/challenges/zipped/problem?isFullScreen=true"
      ],
      "metadata": {
        "id": "MndpHF9tCbZF"
      }
    },
    {
      "cell_type": "code",
      "source": [
        "# Read the 2 integer values in the first line of input and unpack to variables\n",
        "# Of these, the <no_of_students> variable does not seem to have any use \n",
        "# as is the case with many other Hackerrank problems\n",
        "no_of_students, no_of_subjects = map(int, input().split())\n",
        "\n",
        "# Initialize a list to store list of lists\n",
        "marks_list = []\n",
        "\n",
        "# For each subject\n",
        "for i in range(no_of_subjects):\n",
        "    # Gather the marks in a list and add it to <marksList>\n",
        "    # This makes for a list of mark lists\n",
        "    marks_list.append(list(map(float, input().split())))\n",
        "\n",
        "# There are 2 operations here\n",
        "# 1. The marks_list is zipped to collate the students' marks in the zipped list\n",
        "# 2. The resulting zipped list is iterated in the <for> loop\n",
        "for marks in list(zip(*marks_list)):\n",
        "    # Print the average by summing the student marks and dividing them by number of subjects\n",
        "    print (sum(marks)/no_of_subjects)\n",
        "\n",
        "# For fun, uncomment the below statement and try it. It basically compresses the \n",
        "# above <for> loop into one statement as an example to the proper use of list comprehension. \n",
        "# The resulting generator is fed to the <print> statement. The output will be slightly \n",
        "# different than above. What might be the use for such comprehension?\n",
        "\n",
        "# print (*(sum(marks)/no_of_subjects for marks in list(zip(*marks_list))))"
      ],
      "metadata": {
        "id": "Ydk6qrjcCanS"
      },
      "execution_count": null,
      "outputs": []
    },
    {
      "cell_type": "markdown",
      "source": [
        "# Input()\n",
        "https://www.hackerrank.com/challenges/input/problem?isFullScreen=true"
      ],
      "metadata": {
        "id": "V7h73AUnDsAc"
      }
    },
    {
      "cell_type": "code",
      "execution_count": null,
      "metadata": {
        "id": "iLph0j8QDnl2"
      },
      "outputs": [],
      "source": [
        "# Read 2 integer values\n",
        "# 'val' represents the value to be supplied to x\n",
        "# 'result' represents the result of applying 'val' to the variable x in the supplied polynomial function\n",
        "val, result = map(int, input().split())\n",
        "\n",
        "# Read the polynomial function, and replace all occurences of variable x with val\n",
        "p = input().replace('x',str(val))\n",
        "\n",
        "# Evaluate the output value of executing the polynomial function and compare it with the result value\n",
        "print (eval(p)==result)"
      ]
    },
    {
      "cell_type": "markdown",
      "source": [
        "# Python Evaluation\n",
        "https://www.hackerrank.com/challenges/python-eval/problem?isFullScreen=true"
      ],
      "metadata": {
        "id": "3IZMCDaTCfd1"
      }
    },
    {
      "cell_type": "code",
      "source": [
        "# What can I say?!!\n",
        "eval(input())"
      ],
      "metadata": {
        "id": "J13Y-XshCao7"
      },
      "execution_count": null,
      "outputs": []
    },
    {
      "cell_type": "markdown",
      "source": [
        "# Any or All\n",
        "https://www.hackerrank.com/challenges/any-or-all/problem?isFullScreen=true"
      ],
      "metadata": {
        "id": "htF3gHF8FF3d"
      }
    },
    {
      "cell_type": "code",
      "source": [
        "# Method 1:\n",
        "\n",
        "# Gather the count of numbers, although we don't have a use for it\n",
        "count = input();\n",
        "\n",
        "# Gather the value of each number in a list.\n",
        "# Note that we are storing the numbers as is, which is strings \n",
        "# (instead of converting them to integers)\n",
        "num_list = list(input().split())\n",
        "\n",
        "# These lists will store boolean values of comparison operations below\n",
        "positive_list = []\n",
        "palindrome_list = []\n",
        "\n",
        "# Iterate through each number string in the list\n",
        "for num in num_list:\n",
        "  # Add the boolean result of the comparison operation \n",
        "  # to check if each number is greater than 0\n",
        "  positive_list.append(int(num) > 0)\n",
        "\n",
        "  # Add the boolean result of the comparison operation \n",
        "  # to check if each number string and its reverse string are the same\n",
        "  palindrome_list.append(num==num[::-1])\n",
        "\n",
        "# Print the output of \n",
        "# <all()> function on the positive boolean list to check whether all numbers are positive \n",
        "# <AND> \n",
        "# <any()> function on the palindrome boolean list to check whether any of the numbers is an integer\n",
        "print(all(positive_list) and any(palindrome_list))"
      ],
      "metadata": {
        "id": "-o9VK2i-LzTI"
      },
      "execution_count": null,
      "outputs": []
    },
    {
      "cell_type": "code",
      "source": [
        "# Method 2: Same logic, but compressed code using list comprehension\n",
        "# This is actually a challenge in the Hackerrank problem to solve with \n",
        "# only 3 lines of code - for no extra points :(\n",
        "\n",
        "# Gather the count of numbers, although we don't have a use for it\n",
        "count = input();\n",
        "\n",
        "# Gather the value of each number in a list.\n",
        "# Note that we are not converting the input to integers, but storing the numbers as is, which is strings\n",
        "num_list = list(input().split())\n",
        "\n",
        "# Print the output of one <all()> function <AND> and <any()> function\n",
        "# The <all()> function checks if all the integer numbers in the list are positive numbers (> 0)\n",
        "# The <any()> function checks if any of number strings are a palindrome, \n",
        "# i.e. whether the string and its reverse string are the same\n",
        "print(all(int(x) > 0 for x in num_list) and any(x == x[::-1] for x in num_list))"
      ],
      "metadata": {
        "id": "31oVDTtRFGSi",
        "colab": {
          "base_uri": "https://localhost:8080/"
        },
        "outputId": "0c6ab61f-d941-4520-f70f-cc4111f5227e"
      },
      "execution_count": null,
      "outputs": [
        {
          "output_type": "stream",
          "name": "stdout",
          "text": [
            "31  81\n",
            "31 81\n",
            "False\n"
          ]
        }
      ]
    },
    {
      "cell_type": "markdown",
      "source": [
        "# Athelete Sort\n",
        "https://www.hackerrank.com/challenges/python-sort-sort/problem?isFullScreen=true"
      ],
      "metadata": {
        "id": "wqMvMtHeFGjS"
      }
    },
    {
      "cell_type": "code",
      "source": [
        "if __name__ == '__main__':\n",
        "    nm = input().split()\n",
        "\n",
        "    n = int(nm[0])\n",
        "\n",
        "    m = int(nm[1])\n",
        "\n",
        "    arr = []\n",
        "\n",
        "    for _ in range(n):\n",
        "        arr.append(list(map(int, input().rstrip().split())))\n",
        "\n",
        "    k = int(input())\n",
        "\n",
        "# ^^^ Code above to collect all the input was provided in HackerRank ^^^\n",
        "\n",
        "    # Loop through a sorted array of list items each containing the parameter values of an athlete\n",
        "    # Sorting of the array of list items is done using the <sorted()> function and its <key> parameter. \n",
        "    # If no key was passed to the <sorted()> function, it would sort based on the first key which is the [0] index\n",
        "    # Since we need sort by the provided columns (which is [k] index), we use the <key> parameter of the <sorted() function.\n",
        "    # In the <key> we use a lambda function which indicates that for each element in the list, \n",
        "    # return the values in the [k] index for sorting\n",
        "    for each_row in sorted(arr, key = lambda x: x[k]):\n",
        "        # Print the parameters of each list item\n",
        "        print (*each_row)"
      ],
      "metadata": {
        "id": "i9B2rFHRFGzC"
      },
      "execution_count": null,
      "outputs": []
    },
    {
      "cell_type": "markdown",
      "source": [
        ""
      ],
      "metadata": {
        "id": "a5JcbNElFG-A"
      }
    },
    {
      "cell_type": "code",
      "source": [
        ""
      ],
      "metadata": {
        "id": "o1RVlns-FHHC"
      },
      "execution_count": null,
      "outputs": []
    }
  ]
}