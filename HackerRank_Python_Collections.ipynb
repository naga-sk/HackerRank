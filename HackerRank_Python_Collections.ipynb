{
  "nbformat": 4,
  "nbformat_minor": 0,
  "metadata": {
    "colab": {
      "name": "HackerRank-Python-Collections.ipynb",
      "provenance": [],
      "collapsed_sections": [],
      "authorship_tag": "ABX9TyMsBQWWpcfFHWUy787kF/U7",
      "include_colab_link": true
    },
    "kernelspec": {
      "name": "python3",
      "display_name": "Python 3"
    },
    "language_info": {
      "name": "python"
    }
  },
  "cells": [
    {
      "cell_type": "markdown",
      "metadata": {
        "id": "view-in-github",
        "colab_type": "text"
      },
      "source": [
        "<a href=\"https://colab.research.google.com/github/naga-sk/HackerRank/blob/main/HackerRank_Python_Collections.ipynb\" target=\"_parent\"><img src=\"https://colab.research.google.com/assets/colab-badge.svg\" alt=\"Open In Colab\"/></a>"
      ]
    },
    {
      "cell_type": "markdown",
      "source": [
        "# collections.counter()\n",
        "https://www.hackerrank.com/challenges/collections-counter/problem?isFullScreen=true"
      ],
      "metadata": {
        "id": "ak51iofSbjr0"
      }
    },
    {
      "cell_type": "code",
      "source": [
        "# Method 1: Use of collections.Counter object\n",
        "from collections import Counter\n",
        "shoeCount = int(input())\n",
        "\n",
        "c = Counter(map(int, input().split()))\n",
        "\n",
        "earning = 0\n",
        "\n",
        "for x in range(int(input())):\n",
        "    shoeWanted, price = map(int, input().split())\n",
        "    if shoeWanted in c.elements():\n",
        "      earning += price\n",
        "      c.subtract([shoeWanted])\n",
        "\n",
        "print (earning)"
      ],
      "metadata": {
        "colab": {
          "base_uri": "https://localhost:8080/"
        },
        "id": "BilOc8wygdLg",
        "outputId": "a4cc89c0-2f80-4915-f91c-a78a81fd4cae"
      },
      "execution_count": null,
      "outputs": [
        {
          "output_type": "stream",
          "name": "stdout",
          "text": [
            "5\n",
            "2 3 4 4 5\n",
            "3\n",
            "4 20\n",
            "4 40\n",
            "4 50\n",
            "60\n"
          ]
        }
      ]
    },
    {
      "cell_type": "code",
      "execution_count": null,
      "metadata": {
        "colab": {
          "base_uri": "https://localhost:8080/"
        },
        "id": "L0su38YwbQR8",
        "outputId": "c538b433-33a8-4465-9696-368ead27e4a3"
      },
      "outputs": [
        {
          "output_type": "stream",
          "name": "stdout",
          "text": [
            "6\n",
            "3 4 5 6 7 8\n",
            "3\n",
            "4 10\n",
            "4 15\n",
            "6 20\n",
            "30\n"
          ]
        }
      ],
      "source": [
        "# Method 2: WITHOUT the use of collections.Counter object. \n",
        "# Used a list instead. Otherwise logic is identical\n",
        "\n",
        "shoeCount = int(input())\n",
        "shoeList = list(map(int, input().split()))\n",
        "\n",
        "earning = 0\n",
        "\n",
        "for x in range(int(input())):\n",
        "    shoeWanted, price = map(int, input().split())\n",
        "    if shoeWanted in shoeList:\n",
        "        earning += price\n",
        "        shoeList.remove(shoeWanted)\n",
        "        \n",
        "print (earning)"
      ]
    },
    {
      "cell_type": "markdown",
      "source": [
        "# defaultDict tutorial\n",
        "https://www.hackerrank.com/challenges/defaultdict-tutorial/problem?isFullScreen=true"
      ],
      "metadata": {
        "id": "XD1OV8qZ-I_f"
      }
    },
    {
      "cell_type": "code",
      "source": [
        "# Enter your code here. Read input from STDIN. Print output to STDOUT\n",
        "\n",
        "from collections import defaultdict\n",
        "\n",
        "# Read n and m values from input\n",
        "n, m = map(int, input().split())\n",
        "\n",
        "# Initalize a defaultdict Object with lists, meaning the values will be held in a list\n",
        "d = defaultdict(list)\n",
        "\n",
        "# Iterate through all the input strings. \n",
        "for each in range(n):\n",
        "\n",
        "    # In the defaultdict object, add the string as key and \n",
        "    # add their order of input (designated by <each+1>)to the values list\n",
        "    d[input()].append(each+1)\n",
        "\n",
        "# Iterate through all the query strings. \n",
        "for each in range(m):\n",
        "    \n",
        "    # Read query string\n",
        "    key = input()\n",
        "\n",
        "    # If the query string exists in the defaultdict object \n",
        "    # (designated by at least one element with that key <len(d[key])> )\n",
        "    # print all the values in the list for the provided key\n",
        "    if len(d[key]): print(*d[key])\n",
        "\n",
        "    # Otherwise, print -1 as indicated in the expected output\n",
        "    else: print (-1)   "
      ],
      "metadata": {
        "colab": {
          "base_uri": "https://localhost:8080/"
        },
        "id": "jxdMCgil-JJe",
        "outputId": "d299b80c-63b9-4f81-b8ca-5d3610e104d1"
      },
      "execution_count": null,
      "outputs": [
        {
          "output_type": "stream",
          "name": "stdout",
          "text": [
            "1 2\n",
            "a\n",
            "a\n",
            "1\n",
            "b\n",
            "-1\n"
          ]
        }
      ]
    },
    {
      "cell_type": "markdown",
      "source": [
        "# Word Order\n",
        "https://www.hackerrank.com/challenges/word-order/problem?isFullScreen=true"
      ],
      "metadata": {
        "id": "p0H1wjNnb5go"
      }
    },
    {
      "cell_type": "code",
      "source": [
        "# Method 1: Use of collections.Counter object\n",
        "from collections import Counter\n",
        "\n",
        "# Collect the input in a Counter\n",
        "c = Counter()\n",
        "for each in range(int(input())): c.update([input()])\n",
        "\n",
        "# Print the count of the number of keys in the Counter object using len()\n",
        "print (len(c.keys()))\n",
        "\n",
        "# Print the values in the counter object\n",
        "# Note the use of * to return all the values to the print function. \n",
        "# Try printing without the * and it will print the entire object\n",
        "print (*c.values())"
      ],
      "metadata": {
        "colab": {
          "base_uri": "https://localhost:8080/"
        },
        "id": "ORmQDntprf09",
        "outputId": "43f92548-82b8-45b6-f938-5a975605b224"
      },
      "execution_count": null,
      "outputs": [
        {
          "output_type": "stream",
          "name": "stdout",
          "text": [
            "5\n",
            "a\n",
            "a\n",
            "d\n",
            "ad\n",
            "ad\n",
            "3\n",
            "2 1 2\n"
          ]
        }
      ]
    },
    {
      "cell_type": "code",
      "source": [
        "# Method 2: WITHOUT Use of collections.Counter object. \n",
        "# I had tried using list and set and it wasn't efficient both in terms of \n",
        "# lines of code as well as memory handling for larger data sets\n",
        "# Found dictionary to be ideal for this use\n",
        "\n",
        "outDict = {}\n",
        "\n",
        "# Iterate n times and collect all the string input provided\n",
        "for each in range(int(input())):\n",
        "    \n",
        "    # this collect the next string\n",
        "    newStr = input()\n",
        "\n",
        "    # If the collected string is not in the dictionary\n",
        "    if newStr not in outDict.keys():\n",
        "\n",
        "      # add it as new key to the dictionary and set is value as 1 (for count)\n",
        "      outDict[newStr] = 1\n",
        "    else:\n",
        "\n",
        "      # Increment the existing value of the string key by 1\n",
        "      outDict.update({newStr:outDict[newStr]+1})\n",
        "\n",
        "# print the total number of keys in the dictionary\n",
        "print (len(outDict))\n",
        "\n",
        "# Print all the values in the dictionary\n",
        "# Note the use of * to return all the values to the print function. \n",
        "# Try printing without the * and it will print the entire object\n",
        "print (*outDict.values())"
      ],
      "metadata": {
        "colab": {
          "base_uri": "https://localhost:8080/"
        },
        "id": "5MlYiryYbilQ",
        "outputId": "30a9692a-4c32-41bb-978e-0cf87ae8beb1"
      },
      "execution_count": null,
      "outputs": [
        {
          "output_type": "stream",
          "name": "stdout",
          "text": [
            "4\n",
            "a\n",
            "as\n",
            "a\n",
            "add\n",
            "3\n",
            "2 1 1\n"
          ]
        }
      ]
    },
    {
      "cell_type": "markdown",
      "source": [
        "# collections.Deque\n",
        "https://www.hackerrank.com/challenges/py-collections-deque/problem?isFullScreen=true"
      ],
      "metadata": {
        "id": "bnSsFlY7w5RJ"
      }
    },
    {
      "cell_type": "code",
      "source": [
        "from collections import deque\n",
        "\n",
        "# Initialize deque object\n",
        "d = deque()\n",
        "\n",
        "# Iterate through inputs\n",
        "for each in range(int(input())):\n",
        "    \n",
        "    # Capture the operation name and arguments if any. \n",
        "    # Note that all arguments will be captured in val if any\n",
        "    op, *args = list(input().split())\n",
        "    \n",
        "    # Depending on the operation name, perform the operation and pass arguments as needed.\n",
        "    # Note that since there will be only one integer argument passed, we refer to int(args[0]).\n",
        "    # If multiple arguments of various data types are passed, it can be handled \n",
        "    # by iterating through the <args> list\n",
        "    if (op == 'append'):\n",
        "        d.append(int(args[0]))\n",
        "    elif (op == 'appendleft'):\n",
        "        d.appendleft(int(args[0]))\n",
        "    elif (op == 'pop'):\n",
        "        d.pop()\n",
        "    elif (op == 'popleft'):\n",
        "        d.popleft()\n",
        "\n",
        "# Print all the values in the Deque object\n",
        "# Note the use of * to return all the values to the print function. \n",
        "# Try printing without the * and it will print the entire object\n",
        "print (*d)"
      ],
      "metadata": {
        "id": "kiNMb78X5CBw"
      },
      "execution_count": null,
      "outputs": []
    },
    {
      "cell_type": "markdown",
      "source": [
        "# Company Logo\n",
        "https://www.hackerrank.com/challenges/most-commons/problem?isFullScreen=true"
      ],
      "metadata": {
        "id": "3D9rRvf9w1C5"
      }
    },
    {
      "cell_type": "code",
      "source": [
        "#!/bin/python3\n",
        "\n",
        "if __name__ == '__main__':\n",
        "    s = input()\n",
        "\n",
        "# ^^^ Code above was provided in Hackerrank ^^^ #\n",
        "\n",
        "from collections import Counter\n",
        "    \n",
        "# Sort the input string and store it in a counter object\n",
        "c = Counter(sorted(s))\n",
        "\n",
        "# Get the 3 most common items (identified by their frequency of occurence) and print their key and value\n",
        "for key, value in c.most_common(3):\n",
        "    print (key, value)\n"
      ],
      "metadata": {
        "id": "Ee-dhSBUeQsJ"
      },
      "execution_count": null,
      "outputs": []
    }
  ]
}