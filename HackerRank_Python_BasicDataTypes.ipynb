{
  "nbformat": 4,
  "nbformat_minor": 0,
  "metadata": {
    "colab": {
      "name": "HackerRank-Python-BasicDataTypes.ipynb",
      "provenance": [],
      "authorship_tag": "ABX9TyN3izvpZh5wrGRAcu68GZQS",
      "include_colab_link": true
    },
    "kernelspec": {
      "name": "python3",
      "display_name": "Python 3"
    },
    "language_info": {
      "name": "python"
    }
  },
  "cells": [
    {
      "cell_type": "markdown",
      "metadata": {
        "id": "view-in-github",
        "colab_type": "text"
      },
      "source": [
        "<a href=\"https://colab.research.google.com/github/naga-sk/HackerRank/blob/main/HackerRank_Python_BasicDataTypes.ipynb\" target=\"_parent\"><img src=\"https://colab.research.google.com/assets/colab-badge.svg\" alt=\"Open In Colab\"/></a>"
      ]
    },
    {
      "cell_type": "markdown",
      "source": [
        "# List Comprehensions\n",
        "https://www.hackerrank.com/challenges/list-comprehensions/problem?isFullScreen=true"
      ],
      "metadata": {
        "id": "2yd3JY74wXp1"
      }
    },
    {
      "cell_type": "code",
      "source": [
        "if __name__ == '__main__':\n",
        "    x, y, z, n = int(input()), int(input()), int(input()), int(input()) # receive 4 user inputs\n",
        "\n",
        "result = [] # create a blank list\n",
        "\n",
        "for i in range (0,x+1): #iterate through each list\n",
        "    for j in range (0,y+1):\n",
        "        for k in range (0,z+1):\n",
        "            if (i+j+k != n): #if the sum of the 3 items from each list is not equal to n\n",
        "                group = [i, j, k] # create a list of 3 items\n",
        "                result.append(group) # Append this list to the output list which will create a list of lists\n",
        "\n",
        "print (result)"
      ],
      "metadata": {
        "colab": {
          "base_uri": "https://localhost:8080/"
        },
        "id": "Qy4n-twnwozV",
        "outputId": "acef1eeb-36d7-4003-ab31-0995771e5034"
      },
      "execution_count": null,
      "outputs": [
        {
          "output_type": "stream",
          "name": "stdout",
          "text": [
            "2\n",
            "2\n",
            "2\n",
            "4\n",
            "[[0, 0, 0], [0, 0, 1], [0, 0, 2], [0, 1, 0], [0, 1, 1], [0, 1, 2], [0, 2, 0], [0, 2, 1], [1, 0, 0], [1, 0, 1], [1, 0, 2], [1, 1, 0], [1, 1, 1], [1, 2, 0], [1, 2, 2], [2, 0, 0], [2, 0, 1], [2, 1, 0], [2, 1, 2], [2, 2, 1], [2, 2, 2]]\n"
          ]
        }
      ]
    },
    {
      "cell_type": "markdown",
      "source": [
        "# Find the Runner-Up Score!\n",
        "https://www.hackerrank.com/challenges/find-second-maximum-number-in-a-list/problem?isFullScreen=true"
      ],
      "metadata": {
        "id": "VU0YcI7LwXsK"
      }
    },
    {
      "cell_type": "code",
      "source": [
        "if __name__ == '__main__':\n",
        "    n = int(input()) # this value is irrelevant, but can't ignore the input in the hackerrank automated test\n",
        "    arr = map(int, input().split()) # capture n numbers, convert them to integer and store them in a map\n",
        "    \n",
        "inpSet = set(arr) # Copying the contents of the map to a set will eliminate any duplicate values\n",
        "print(sorted(inpSet)[-2]) # sort in ascending fashion and look up the second last value to get the runner up score"
      ],
      "metadata": {
        "colab": {
          "base_uri": "https://localhost:8080/"
        },
        "id": "WGC3dA5uxyO4",
        "outputId": "6d4ae52f-3866-4b6f-97b6-8c927d12f00d"
      },
      "execution_count": null,
      "outputs": [
        {
          "output_type": "stream",
          "name": "stdout",
          "text": [
            "6\n",
            "-3 -4 0 -3 -4 -5\n",
            "-3\n"
          ]
        }
      ]
    },
    {
      "cell_type": "markdown",
      "source": [
        "# Nested Lists\n",
        "https://www.hackerrank.com/challenges/nested-list/problem?isFullScreen=true"
      ],
      "metadata": {
        "id": "yu65w_Zrwaiu"
      }
    },
    {
      "cell_type": "code",
      "source": [
        "# Method 1 (Preferred) - Using 1 list and 1 set object and the in-built sorted() function\n",
        "score_list = [] # initialize a list object to list of [student name, score]\n",
        "scores = set() # initialize a set object to store unique scores\n",
        "\n",
        "if __name__ == '__main__':\n",
        "    for _ in range(int(input())): # get number of students\n",
        "        name = input()  # get the name of each student\n",
        "        score = float(input()) # get the score of each student and save it as float value\n",
        "    \n",
        "        # append [student name, score] to the list object\n",
        "        score_list.append([name, score])\n",
        "        \n",
        "        # add only the score to the set object. This will only store unique scores\n",
        "        scores.add(score) \n",
        "\n",
        "    # Sort the list object. \n",
        "    # Since name is the first value within the list, it will sort by alphabetical order of names\n",
        "    score_list.sort() \n",
        "    \n",
        "    # Sort the set object containing unique scores. This will sort the scores in ascending order. \n",
        "    # After sorting, lowest score will be in index 0 and second lowest score will be in index 1\n",
        "    runner_score = sorted(scores)[1] \n",
        "\n",
        "    # iterate through the score list and get the student name and score value\n",
        "    for student, score in score_list:\n",
        "        # if the score of a student matches the lowest score, print it\n",
        "        if score == runner_score: print (student)"
      ],
      "metadata": {
        "id": "biMbhkr80MUj"
      },
      "execution_count": null,
      "outputs": []
    },
    {
      "cell_type": "code",
      "source": [
        "# Method 2 (Old school - low efficiency) - Using 1 list object only. \n",
        "scoreList = []\n",
        "\n",
        "if __name__ == '__main__':\n",
        "    for _ in range(int(input())):\n",
        "        name = input()\n",
        "        score = float(input())\n",
        "    \n",
        "        thisList = [name, score]\n",
        "        scoreList.append(thisList)\n",
        "\n",
        "scoreList.sort() # this sorts the list by alphabetical order of name\n",
        "scoreList.sort(key = lambda x: x[1]) # this sorts the list by ascending order of score\n",
        "#print (scoreList)\n",
        "\n",
        "secondScore = None\n",
        "\n",
        "for x in range(0,len(scoreList)):\n",
        "  if secondScore == None:\n",
        "    if scoreList[x][1] < scoreList[x+1][1]:\n",
        "      secondScore = scoreList[x+1][1]\n",
        "  else: \n",
        "    if scoreList[x][1] == secondScore:\n",
        "      print (scoreList[x][0])\n",
        "    else:\n",
        "      break"
      ],
      "metadata": {
        "id": "T2vkdSQs0-e2"
      },
      "execution_count": null,
      "outputs": []
    },
    {
      "cell_type": "markdown",
      "source": [
        "# Find the percentage\n",
        "https://www.hackerrank.com/challenges/finding-the-percentage/problem?isFullScreen=true"
      ],
      "metadata": {
        "id": "JceHggwDwara"
      }
    },
    {
      "cell_type": "code",
      "source": [
        "if __name__ == '__main__':\n",
        "    n = int(input())\n",
        "    student_marks = {}\n",
        "    for _ in range(n):\n",
        "        name, *line = input().split()\n",
        "        scores = list(map(float, line))\n",
        "        student_marks[name] = scores\n",
        "    query_name = input()\n",
        "\n",
        "    # ^^^ Code until this point was provided in HackerRank ^^^\n",
        "\n",
        "    # n indicates the number of students, which is irrelevant for our logic\n",
        "    # student_marks is a dictionary containing {key = student name, value = [list of scores of the student]}\n",
        "    # query_name is the name of the student whose average marks need to be calculated\n",
        "    \n",
        "    # now get the list of marks from student_marks dictionary by providing the student name\n",
        "    mark_list = student_marks[query_name]\n",
        "    \n",
        "    # Use the sum() in-built function to get sum total of all the marks in the list\n",
        "    # Divide this sum by the number of marks in the list to get the average\n",
        "    marks_avg = sum(mark_list) / len(mark_list)\n",
        "        \n",
        "    # format the print output so it always prints 2 decimal places only\n",
        "    print ('%.2f'%(marks_avg))\n",
        "    "
      ],
      "metadata": {
        "id": "jcnp8CYN4hpx"
      },
      "execution_count": null,
      "outputs": []
    },
    {
      "cell_type": "markdown",
      "source": [
        "# Lists\n",
        "https://www.hackerrank.com/challenges/python-lists/problem?isFullScreen=true"
      ],
      "metadata": {
        "id": "TZ1NmjE3wask"
      }
    },
    {
      "cell_type": "code",
      "source": [
        "if __name__ == '__main__':\n",
        "    N = int(input())\n",
        "\n",
        "# ^^^ Code until this point was provided in HackerRank ^^^\n",
        "\n",
        "# Create a list to hold the values pertaining to the current operation\n",
        "out_list = []\n",
        "\n",
        "for x in range(0,N):\n",
        "    # Read the input to get the operation name and arguments to be passed\n",
        "    # For example, if the input is \"insert 1 3\", then\n",
        "    # \"insert\" will be stored to op_name and the remainder of input values (denoted by * args) will be stored in the args list\n",
        "    # For the above example, args[0] = 1, args[1] = 3\n",
        "    # Note: All the user input is not mapped to integer because op_name is a string. \n",
        "    # This means args needs to be converted to int as needed\n",
        "    op_name, * args = list(input().split()) \n",
        "    \n",
        "    # Execute the operation accordingly using simple if... elif... else operation\n",
        "    if op_name == \"insert\":\n",
        "        out_list.insert(int(args[0]), int(args[1]))\n",
        "    elif op_name == \"print\":\n",
        "        print (out_list)\n",
        "    elif op_name == \"remove\":\n",
        "        out_list.remove(int(args[0]))\n",
        "    elif op_name == \"append\":\n",
        "        out_list.append(int(args[0]))\n",
        "    elif op_name == \"sort\":\n",
        "        out_list.sort()\n",
        "    elif op_name == \"pop\":\n",
        "        out_list.pop()\n",
        "    elif op_name == \"reverse\":\n",
        "        out_list.reverse()\n",
        "    else:\n",
        "        print (\"Invalid Operation\")       \n",
        "        "
      ],
      "metadata": {
        "id": "kRuq7bip7qCq"
      },
      "execution_count": null,
      "outputs": []
    },
    {
      "cell_type": "markdown",
      "source": [
        "# Tuples\n",
        "https://www.hackerrank.com/challenges/python-tuples/problem?isFullScreen=true"
      ],
      "metadata": {
        "id": "pKeoDnfowa9G"
      }
    },
    {
      "cell_type": "code",
      "source": [
        "if __name__ == '__main__':\n",
        "    n = int(input())\n",
        "    integer_list = map(int, input().split())\n",
        "\n",
        "# ^^^ Code until this point was provided in HackerRank ^^^\n",
        "\n",
        "# Followed instructions provided in the problem to print hash... that is all. No logic to it. \n",
        "# Only immutable objects are hashable. hash() function is used to get a unique identifier for comparison of 2 immutable objects of the same type\n",
        "t = tuple(integer_list)\n",
        "print (hash(t))"
      ],
      "metadata": {
        "id": "6KXhIB2d-vni"
      },
      "execution_count": null,
      "outputs": []
    }
  ]
}