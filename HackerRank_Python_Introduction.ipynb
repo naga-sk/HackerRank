{
  "nbformat": 4,
  "nbformat_minor": 0,
  "metadata": {
    "colab": {
      "name": "HackerRank-Python-Introduction.ipynb",
      "provenance": [],
      "authorship_tag": "ABX9TyNcpuxSwumBUIIdNdJUHyr+",
      "include_colab_link": true
    },
    "kernelspec": {
      "name": "python3",
      "display_name": "Python 3"
    },
    "language_info": {
      "name": "python"
    }
  },
  "cells": [
    {
      "cell_type": "markdown",
      "metadata": {
        "id": "view-in-github",
        "colab_type": "text"
      },
      "source": [
        "<a href=\"https://colab.research.google.com/github/naga-sk/HackerRank/blob/main/HackerRank_Python_Introduction.ipynb\" target=\"_parent\"><img src=\"https://colab.research.google.com/assets/colab-badge.svg\" alt=\"Open In Colab\"/></a>"
      ]
    },
    {
      "cell_type": "markdown",
      "source": [
        "# Say \"Hello, World!\" With Python\n",
        "https://www.hackerrank.com/challenges/py-hello-world/problem?isFullScreen=true"
      ],
      "metadata": {
        "id": "dRyEfBCrlhVG"
      }
    },
    {
      "cell_type": "code",
      "execution_count": null,
      "metadata": {
        "colab": {
          "base_uri": "https://localhost:8080/"
        },
        "id": "FgzTl_NGlUiw",
        "outputId": "3d93d4ec-90f4-4ee6-d88d-85f809db3906"
      },
      "outputs": [
        {
          "output_type": "stream",
          "name": "stdout",
          "text": [
            "Hello, World!\n"
          ]
        }
      ],
      "source": [
        "print(\"Hello, World!\")"
      ]
    },
    {
      "cell_type": "markdown",
      "source": [
        "# Python If-Else\n",
        "https://www.hackerrank.com/challenges/py-if-else/problem?isFullScreen=true"
      ],
      "metadata": {
        "id": "d2pgqiy9lhfG"
      }
    },
    {
      "cell_type": "code",
      "source": [
        "if __name__ == '__main__':\n",
        "  n = int(input().strip())\n",
        "\n",
        "  if (n%2!=0): # Check if number is odd\n",
        "      print (\"Weird\")\n",
        "  else: # Else if number is even\n",
        "      if  6 <= n <= 20: # if number is within 6 and 20 inclusive\n",
        "        print (\"Weird\")\n",
        "      else: # Else if number is outside the inclusive range of 6 to 20\n",
        "        print (\"Not Weird\")"
      ],
      "metadata": {
        "colab": {
          "base_uri": "https://localhost:8080/"
        },
        "id": "yfsvC1mAlgRx",
        "outputId": "f1e3713e-779d-41e3-d006-682ae12e7389"
      },
      "execution_count": null,
      "outputs": [
        {
          "output_type": "stream",
          "name": "stdout",
          "text": [
            "8\n",
            "Weird\n"
          ]
        }
      ]
    },
    {
      "cell_type": "code",
      "source": [
        "if __name__ == '__main__':\n",
        "    n = int(input().strip())\n",
        "\n",
        "    # This uses this single line syntax \"<command> if <condition> else <alternate command>\"\n",
        "    print (\"Weird\") if (n%2!=0 or (n%2==0 and 6 <= n <= 20) ) else print (\"Not Weird\")"
      ],
      "metadata": {
        "colab": {
          "base_uri": "https://localhost:8080/"
        },
        "id": "2R5-mIeymOrq",
        "outputId": "8d868741-ba91-4045-cc15-c6195e09b6d8"
      },
      "execution_count": null,
      "outputs": [
        {
          "output_type": "stream",
          "name": "stdout",
          "text": [
            "8\n",
            "Weird\n"
          ]
        }
      ]
    },
    {
      "cell_type": "markdown",
      "source": [
        "# Arithmetic Operators\n",
        "https://www.hackerrank.com/challenges/python-arithmetic-operators/problem?isFullScreen=true"
      ],
      "metadata": {
        "id": "D-TVsYOanx87"
      }
    },
    {
      "cell_type": "code",
      "source": [
        "if __name__ == '__main__':\n",
        "    a = int(input())\n",
        "    b = int(input())\n",
        "    \n",
        "print (a+b)\n",
        "print (a-b)\n",
        "print (a*b)"
      ],
      "metadata": {
        "colab": {
          "base_uri": "https://localhost:8080/"
        },
        "id": "OwAPHoC5mxOh",
        "outputId": "655607f6-53c7-48cd-d231-09bd2ba14bec"
      },
      "execution_count": null,
      "outputs": [
        {
          "output_type": "stream",
          "name": "stdout",
          "text": [
            "2\n",
            "3\n",
            "5\n",
            "-1\n",
            "6\n"
          ]
        }
      ]
    },
    {
      "cell_type": "markdown",
      "source": [
        "# Python: Division\n",
        "https://www.hackerrank.com/challenges/python-division/problem?isFullScreen=true"
      ],
      "metadata": {
        "id": "Ymz0k8O4n_Jg"
      }
    },
    {
      "cell_type": "code",
      "source": [
        "if __name__ == '__main__':\n",
        "    a = int(input())\n",
        "    b = int(input())\n",
        "    \n",
        "print (a//b) # Division with a integer output (excludes decimals. Equivalent of rounding down)\n",
        "print (a/b)  # Regular division with float output"
      ],
      "metadata": {
        "colab": {
          "base_uri": "https://localhost:8080/"
        },
        "id": "U2B3e9e8n8Io",
        "outputId": "a2afe95f-04c9-4736-f482-8dfed854e4d6"
      },
      "execution_count": null,
      "outputs": [
        {
          "output_type": "stream",
          "name": "stdout",
          "text": [
            "5\n",
            "3\n",
            "1\n",
            "1.6666666666666667\n"
          ]
        }
      ]
    },
    {
      "cell_type": "markdown",
      "source": [
        "# Loops\n",
        "https://www.hackerrank.com/challenges/python-loops/problem?isFullScreen=true"
      ],
      "metadata": {
        "id": "7kMwpAmlo-id"
      }
    },
    {
      "cell_type": "code",
      "source": [
        "if __name__ == '__main__':\n",
        "    n = int(input())\n",
        "\n",
        "    for i in range(0,n): print (i**2)"
      ],
      "metadata": {
        "colab": {
          "base_uri": "https://localhost:8080/"
        },
        "id": "i1_uSyzcoX6A",
        "outputId": "695c0b1b-bc0b-4590-afa8-e9d4d2e19c21"
      },
      "execution_count": null,
      "outputs": [
        {
          "output_type": "stream",
          "name": "stdout",
          "text": [
            "4\n",
            "0\n",
            "1\n",
            "4\n",
            "9\n"
          ]
        }
      ]
    },
    {
      "cell_type": "markdown",
      "source": [
        "# Write a function: Leap Year\n",
        "https://www.hackerrank.com/challenges/write-a-function/problem?isFullScreen=true"
      ],
      "metadata": {
        "id": "OfLr2jg6pvT6"
      }
    },
    {
      "cell_type": "code",
      "source": [
        "def is_leap(year):\n",
        "    leap = False\n",
        "    \n",
        "    if (year%400==0):\n",
        "        leap = True\n",
        "    elif (year%100==0):\n",
        "        leap = False\n",
        "    elif (year%4==0):\n",
        "        leap = True\n",
        "    \n",
        "    return leap\n",
        "\n",
        "year = int(input())\n",
        "print(is_leap(year))"
      ],
      "metadata": {
        "colab": {
          "base_uri": "https://localhost:8080/"
        },
        "id": "ExdrKedppa_t",
        "outputId": "2d247e76-3503-4009-9971-a7110faf31b7"
      },
      "execution_count": null,
      "outputs": [
        {
          "output_type": "stream",
          "name": "stdout",
          "text": [
            "1900\n",
            "False\n"
          ]
        }
      ]
    },
    {
      "cell_type": "markdown",
      "source": [
        "# Print Function\n",
        "https://www.hackerrank.com/challenges/python-print/problem?isFullScreen=true"
      ],
      "metadata": {
        "id": "_UnD3usuqKRe"
      }
    },
    {
      "cell_type": "code",
      "source": [
        "# Method 1: Using the print function with an argument to prevent printing a new line\n",
        "if __name__ == '__main__':\n",
        "    n = int(input())\n",
        "    \n",
        "    for i in range (0,n): print(i+1, end='') # the print function with the argument end='' prevents it from printing a new line\n"
      ],
      "metadata": {
        "colab": {
          "base_uri": "https://localhost:8080/"
        },
        "id": "dTFpNJ0pqJK0",
        "outputId": "6d4ae018-9b52-4e42-cc0e-8e8df48e3835"
      },
      "execution_count": null,
      "outputs": [
        {
          "output_type": "stream",
          "name": "stdout",
          "text": [
            "20\n",
            "1234567891011121314151617181920"
          ]
        }
      ]
    },
    {
      "cell_type": "code",
      "source": [
        "# Method 2: Using a string to concatenate each number\n",
        "if __name__ == '__main__':\n",
        "    n = int(input())\n",
        "    \n",
        "    outStr = \"\"\n",
        "    for i in range (1,n+1): outStr += str(i)\n",
        "\n",
        "    print (outStr)"
      ],
      "metadata": {
        "colab": {
          "base_uri": "https://localhost:8080/"
        },
        "id": "igd3pQAtqFSl",
        "outputId": "b925bb16-2d42-4b94-d4cb-baa02f9997f7"
      },
      "execution_count": null,
      "outputs": [
        {
          "output_type": "stream",
          "name": "stdout",
          "text": [
            "20\n",
            "1234567891011121314151617181920\n"
          ]
        }
      ]
    }
  ]
}