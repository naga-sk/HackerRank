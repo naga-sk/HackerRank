{
  "nbformat": 4,
  "nbformat_minor": 0,
  "metadata": {
    "colab": {
      "name": "HackerRank Practice.ipynb",
      "provenance": [],
      "collapsed_sections": [],
      "authorship_tag": "ABX9TyMhhAyfkAOQ1YqqEF1s76iP",
      "include_colab_link": true
    },
    "kernelspec": {
      "name": "python3",
      "display_name": "Python 3"
    },
    "language_info": {
      "name": "python"
    }
  },
  "cells": [
    {
      "cell_type": "markdown",
      "metadata": {
        "id": "view-in-github",
        "colab_type": "text"
      },
      "source": [
        "<a href=\"https://colab.research.google.com/github/naga-sk/HackerRank/blob/main/HackerRank_Practice.ipynb\" target=\"_parent\"><img src=\"https://colab.research.google.com/assets/colab-badge.svg\" alt=\"Open In Colab\"/></a>"
      ]
    },
    {
      "cell_type": "markdown",
      "source": [
        "# Print combination of 3 number ranges x, y, z from 0 to x and to y and to z respectively, except when the sum of x, y, z is not equal to number n"
      ],
      "metadata": {
        "id": "AYElWfXXZGuS"
      }
    },
    {
      "cell_type": "markdown",
      "source": [
        ""
      ],
      "metadata": {
        "id": "yK1l_h1vDwpk"
      }
    },
    {
      "cell_type": "code",
      "execution_count": null,
      "metadata": {
        "colab": {
          "base_uri": "https://localhost:8080/"
        },
        "id": "RJWwjMMfXUWo",
        "outputId": "d0127a37-6249-4a1c-ee37-0d51c33f595d"
      },
      "outputs": [
        {
          "output_type": "stream",
          "name": "stdout",
          "text": [
            "1\n",
            "1\n",
            "2\n",
            "3\n",
            "[[0, 0, 0], [0, 0, 1], [0, 0, 2], [0, 1, 0], [0, 1, 1], [1, 0, 0], [1, 0, 1], [1, 1, 0], [1, 1, 2]]\n"
          ]
        }
      ],
      "source": [
        "x = int(input())\n",
        "y = int(input())\n",
        "z = int(input())\n",
        "n = int(input())\n",
        " \n",
        "\n",
        "result = []\n",
        "\n",
        "for i in range (0,x+1):\n",
        "    for j in range (0,y+1):\n",
        "        for k in range (0,z+1):\n",
        "            if (i+j+k != n):\n",
        "                group = [i, j, k]\n",
        "                result.append(group)\n",
        "\n",
        "print (result)"
      ]
    },
    {
      "cell_type": "markdown",
      "source": [
        "# Find the runner up score\n",
        "https://www.hackerrank.com/challenges/find-second-maximum-number-in-a-list/problem?isFullScreen=true&h_r=next-challenge&h_v=zen\n",
        "\n",
        "Given the participants' score sheet for your University Sports Day, you are required to find the runner-up score. You are given 'n' scores. Store them in a list and find the score of the runner-up.\n",
        "\n",
        "**Input Format**\n",
        "\n",
        "The first line contains 'n'. The second line contains an array A[] of n integers each separated by a space.\n",
        "\n",
        "**Constraints**\n",
        "\n",
        "**Output Format**\n",
        "\n",
        "Print the runner-up score."
      ],
      "metadata": {
        "id": "T6MdISmDZQ94"
      }
    },
    {
      "cell_type": "code",
      "source": [
        "arr = map(int, input().split())\n",
        "\n",
        "nums = list(arr)\n",
        "# print(nums)\n",
        "winner = nums[0]\n",
        "runner = None\n",
        "\n",
        "for i in range(1,len(nums)):\n",
        "    if nums[i] != winner:\n",
        "        if nums[i] > winner:\n",
        "            runner = winner        \n",
        "            winner = nums[i]\n",
        "        elif runner == None or nums[i] > runner:\n",
        "            runner = nums[i]\n",
        "                \n",
        "print (runner)"
      ],
      "metadata": {
        "colab": {
          "base_uri": "https://localhost:8080/"
        },
        "id": "SKwXMxM3bSZB",
        "outputId": "418fce4e-faad-4334-968b-eba6ee1f05f3"
      },
      "execution_count": null,
      "outputs": [
        {
          "output_type": "stream",
          "name": "stdout",
          "text": [
            "-99 -99 -98 -98 0\n",
            "-98\n"
          ]
        }
      ]
    },
    {
      "cell_type": "code",
      "source": [
        "arr = map(int, input().split())\n",
        "\n",
        "inpArr = list(arr)\n",
        "inpArr.sort(reverse = True)\n",
        "#print (inpArr)\n",
        "\n",
        "runner = inpArr[0]\n",
        "\n",
        "# Find the second largest num\n",
        "for i in range(1,len(inpArr)):\n",
        "  if runner > inpArr[i]:\n",
        "    runner = inpArr[i]\n",
        "    break\n",
        "\n",
        "print (runner)"
      ],
      "metadata": {
        "id": "xMfmFsc-LJbJ"
      },
      "execution_count": null,
      "outputs": []
    },
    {
      "cell_type": "code",
      "source": [
        "arr = map(int, input().split())\n",
        "\n",
        "inpArr = list(set(arr)) # set is an iterable that is unordered\n",
        "inpArr.sort() # sort the list\n",
        "\n",
        "print (inpArr[len(inpArr)-2]) #print the second last number from the sorted order.\n",
        "\n",
        "# Alternative would be to "
      ],
      "metadata": {
        "colab": {
          "base_uri": "https://localhost:8080/"
        },
        "id": "vXay-C8E-Shh",
        "outputId": "6bfc52ed-06da-4c7f-ab85-7745dedc4369"
      },
      "execution_count": null,
      "outputs": [
        {
          "output_type": "stream",
          "name": "stdout",
          "text": [
            "-99 -100 -98 -90 -99 -100 -98\n",
            "[-90, -100, -99, -98]\n",
            "[-100, -99, -98, -90]\n",
            "4\n",
            "-98\n"
          ]
        }
      ]
    },
    {
      "cell_type": "markdown",
      "source": [
        "# Nested Lists\n",
        "https://www.hackerrank.com/challenges/nested-list/problem?isFullScreen=true&h_r=next-challenge&h_v=zen&h_r=next-challenge&h_v=zen\n",
        "\n",
        "Given the names and grades for each student in a class of 'N' students, store them in a nested list and print the name(s) of any student(s) having the second lowest grade.\n",
        "\n",
        "Note: If there are multiple students with the second lowest grade, order their names alphabetically and print each name on a new line."
      ],
      "metadata": {
        "id": "qdzJ9IhCBIlB"
      }
    },
    {
      "cell_type": "code",
      "source": [
        "scoreList = []\n",
        "\n",
        "for _ in range(int(input())):\n",
        "  name = input()\n",
        "  score = float(input())\n",
        "\n",
        "  thisList = [name, score]\n",
        "  scoreList.append(thisList)\n",
        "\n",
        "scoreList.sort(key = lambda x: x[1])\n",
        "print (scoreList)\n",
        "\n",
        "secondScore = None\n",
        "\n",
        "for x in range(0,len(scoreList)):\n",
        "  if secondScore == None:\n",
        "    if scoreList[x][1] < scoreList[x+1][1]:\n",
        "      secondScore = scoreList[x+1][1]\n",
        "  else: \n",
        "    if scoreList[x][1] == secondScore:\n",
        "      print (scoreList[x][0])\n",
        "    else:\n",
        "      break"
      ],
      "metadata": {
        "colab": {
          "base_uri": "https://localhost:8080/"
        },
        "id": "u5WrSrAgShxZ",
        "outputId": "7252a51a-3ac2-4574-df53-511faa90bedc"
      },
      "execution_count": null,
      "outputs": [
        {
          "output_type": "stream",
          "name": "stdout",
          "text": [
            "5\n",
            "q\n",
            "3\n",
            "w\n",
            "3\n",
            "e\n",
            "2\n",
            "r\n",
            "2\n",
            "t\n",
            "1\n",
            "[['t', 1.0], ['e', 2.0], ['r', 2.0], ['q', 3.0], ['w', 3.0]]\n",
            "e\n",
            "r\n"
          ]
        }
      ]
    },
    {
      "cell_type": "markdown",
      "source": [
        "# Find a string\n",
        "In this challenge, the user enters a string and a substring. You have to print the number of times that the substring occurs in the given string. String traversal will take place from left to right, not from right to left.\n",
        "\n",
        "NOTE: String letters are case-sensitive.\n",
        "\n",
        "**Input Format**\n",
        "\n",
        "The first line of input contains the original string. The next line contains the substring.\n",
        "\n",
        "**Constraints**\n",
        "Each character in the string is an ascii character.\n",
        "\n",
        "**Output Format**\n",
        "\n",
        "Output the integer number indicating the total number of occurrences of the substring in the original string."
      ],
      "metadata": {
        "id": "OlJMoN610R3J"
      }
    },
    {
      "cell_type": "code",
      "source": [
        "string = \"ininini\"\n",
        "sub_string = \"ini\"\n",
        "\n",
        "i = 0\n",
        "count = 0 \n",
        "\n",
        "while i >= 0:\n",
        "  #print (string)\n",
        "  i = string.find(sub_string)\n",
        "  #print (\"index is \", i)\n",
        "  string = string[i+1:]\n",
        "\n",
        "  if (i < 0):\n",
        "    break\n",
        "  else:\n",
        "    count += 1\n",
        "\n",
        "print (count)\n"
      ],
      "metadata": {
        "colab": {
          "base_uri": "https://localhost:8080/"
        },
        "id": "RvkrT7Lu0SRR",
        "outputId": "3b3c8d53-2d2c-4662-ff09-97984ed4a3fd"
      },
      "execution_count": null,
      "outputs": [
        {
          "output_type": "stream",
          "name": "stdout",
          "text": [
            "3\n"
          ]
        }
      ]
    },
    {
      "cell_type": "markdown",
      "source": [
        "# Alphabet Rangoli\n",
        "https://www.hackerrank.com/challenges/alphabet-rangoli/problem?isFullScreen=true"
      ],
      "metadata": {
        "id": "DGz_VPa57jJi"
      }
    },
    {
      "cell_type": "code",
      "source": [
        "from typing import Text\n",
        "size = 20\n",
        "delimiter = '-'\n",
        "\n",
        "string = \"abcdefghijklmnopqrstuvwxyz\"\n",
        "\n",
        "charList = list(string[:size])\n",
        "\n",
        "count = 1\n",
        "incr = True\n",
        "\n",
        "while count > 0:\n",
        "  pattern = \"\"\n",
        "\n",
        "  for x in range(0, size-count):\n",
        "    pattern = pattern  + \"+\" + delimiter \n",
        "\n",
        "  for y in range(size, size-count, -1):\n",
        "    pattern = pattern + charList[y-1] + delimiter\n",
        "\n",
        "  if incr:\n",
        "    count += 1\n",
        "  else:\n",
        "    count -= 1\n",
        "\n",
        "  if count == size:\n",
        "    incr = False\n",
        "\n",
        "  pattern = pattern + pattern[len(pattern)-4::-1]\n",
        "\n",
        "  print (pattern)"
      ],
      "metadata": {
        "colab": {
          "base_uri": "https://localhost:8080/"
        },
        "id": "EE3_eEei0sFF",
        "outputId": "8b8bd9e6-37cc-41af-9cf9-058f191f6581"
      },
      "execution_count": null,
      "outputs": [
        {
          "output_type": "stream",
          "name": "stdout",
          "text": [
            "+-+-+-+-+-+-+-+-+-+-+-+-+-+-+-+-+-+-+-t-+-+-+-+-+-+-+-+-+-+-+-+-+-+-+-+-+-+-+\n",
            "+-+-+-+-+-+-+-+-+-+-+-+-+-+-+-+-+-+-t-s-t-+-+-+-+-+-+-+-+-+-+-+-+-+-+-+-+-+-+\n",
            "+-+-+-+-+-+-+-+-+-+-+-+-+-+-+-+-+-t-s-r-s-t-+-+-+-+-+-+-+-+-+-+-+-+-+-+-+-+-+\n",
            "+-+-+-+-+-+-+-+-+-+-+-+-+-+-+-+-t-s-r-q-r-s-t-+-+-+-+-+-+-+-+-+-+-+-+-+-+-+-+\n",
            "+-+-+-+-+-+-+-+-+-+-+-+-+-+-+-t-s-r-q-p-q-r-s-t-+-+-+-+-+-+-+-+-+-+-+-+-+-+-+\n",
            "+-+-+-+-+-+-+-+-+-+-+-+-+-+-t-s-r-q-p-o-p-q-r-s-t-+-+-+-+-+-+-+-+-+-+-+-+-+-+\n",
            "+-+-+-+-+-+-+-+-+-+-+-+-+-t-s-r-q-p-o-n-o-p-q-r-s-t-+-+-+-+-+-+-+-+-+-+-+-+-+\n",
            "+-+-+-+-+-+-+-+-+-+-+-+-t-s-r-q-p-o-n-m-n-o-p-q-r-s-t-+-+-+-+-+-+-+-+-+-+-+-+\n",
            "+-+-+-+-+-+-+-+-+-+-+-t-s-r-q-p-o-n-m-l-m-n-o-p-q-r-s-t-+-+-+-+-+-+-+-+-+-+-+\n",
            "+-+-+-+-+-+-+-+-+-+-t-s-r-q-p-o-n-m-l-k-l-m-n-o-p-q-r-s-t-+-+-+-+-+-+-+-+-+-+\n",
            "+-+-+-+-+-+-+-+-+-t-s-r-q-p-o-n-m-l-k-j-k-l-m-n-o-p-q-r-s-t-+-+-+-+-+-+-+-+-+\n",
            "+-+-+-+-+-+-+-+-t-s-r-q-p-o-n-m-l-k-j-i-j-k-l-m-n-o-p-q-r-s-t-+-+-+-+-+-+-+-+\n",
            "+-+-+-+-+-+-+-t-s-r-q-p-o-n-m-l-k-j-i-h-i-j-k-l-m-n-o-p-q-r-s-t-+-+-+-+-+-+-+\n",
            "+-+-+-+-+-+-t-s-r-q-p-o-n-m-l-k-j-i-h-g-h-i-j-k-l-m-n-o-p-q-r-s-t-+-+-+-+-+-+\n",
            "+-+-+-+-+-t-s-r-q-p-o-n-m-l-k-j-i-h-g-f-g-h-i-j-k-l-m-n-o-p-q-r-s-t-+-+-+-+-+\n",
            "+-+-+-+-t-s-r-q-p-o-n-m-l-k-j-i-h-g-f-e-f-g-h-i-j-k-l-m-n-o-p-q-r-s-t-+-+-+-+\n",
            "+-+-+-t-s-r-q-p-o-n-m-l-k-j-i-h-g-f-e-d-e-f-g-h-i-j-k-l-m-n-o-p-q-r-s-t-+-+-+\n",
            "+-+-t-s-r-q-p-o-n-m-l-k-j-i-h-g-f-e-d-c-d-e-f-g-h-i-j-k-l-m-n-o-p-q-r-s-t-+-+\n",
            "+-t-s-r-q-p-o-n-m-l-k-j-i-h-g-f-e-d-c-b-c-d-e-f-g-h-i-j-k-l-m-n-o-p-q-r-s-t-+\n",
            "t-s-r-q-p-o-n-m-l-k-j-i-h-g-f-e-d-c-b-a-b-c-d-e-f-g-h-i-j-k-l-m-n-o-p-q-r-s-t\n",
            "+-t-s-r-q-p-o-n-m-l-k-j-i-h-g-f-e-d-c-b-c-d-e-f-g-h-i-j-k-l-m-n-o-p-q-r-s-t-+\n",
            "+-+-t-s-r-q-p-o-n-m-l-k-j-i-h-g-f-e-d-c-d-e-f-g-h-i-j-k-l-m-n-o-p-q-r-s-t-+-+\n",
            "+-+-+-t-s-r-q-p-o-n-m-l-k-j-i-h-g-f-e-d-e-f-g-h-i-j-k-l-m-n-o-p-q-r-s-t-+-+-+\n",
            "+-+-+-+-t-s-r-q-p-o-n-m-l-k-j-i-h-g-f-e-f-g-h-i-j-k-l-m-n-o-p-q-r-s-t-+-+-+-+\n",
            "+-+-+-+-+-t-s-r-q-p-o-n-m-l-k-j-i-h-g-f-g-h-i-j-k-l-m-n-o-p-q-r-s-t-+-+-+-+-+\n",
            "+-+-+-+-+-+-t-s-r-q-p-o-n-m-l-k-j-i-h-g-h-i-j-k-l-m-n-o-p-q-r-s-t-+-+-+-+-+-+\n",
            "+-+-+-+-+-+-+-t-s-r-q-p-o-n-m-l-k-j-i-h-i-j-k-l-m-n-o-p-q-r-s-t-+-+-+-+-+-+-+\n",
            "+-+-+-+-+-+-+-+-t-s-r-q-p-o-n-m-l-k-j-i-j-k-l-m-n-o-p-q-r-s-t-+-+-+-+-+-+-+-+\n",
            "+-+-+-+-+-+-+-+-+-t-s-r-q-p-o-n-m-l-k-j-k-l-m-n-o-p-q-r-s-t-+-+-+-+-+-+-+-+-+\n",
            "+-+-+-+-+-+-+-+-+-+-t-s-r-q-p-o-n-m-l-k-l-m-n-o-p-q-r-s-t-+-+-+-+-+-+-+-+-+-+\n",
            "+-+-+-+-+-+-+-+-+-+-+-t-s-r-q-p-o-n-m-l-m-n-o-p-q-r-s-t-+-+-+-+-+-+-+-+-+-+-+\n",
            "+-+-+-+-+-+-+-+-+-+-+-+-t-s-r-q-p-o-n-m-n-o-p-q-r-s-t-+-+-+-+-+-+-+-+-+-+-+-+\n",
            "+-+-+-+-+-+-+-+-+-+-+-+-+-t-s-r-q-p-o-n-o-p-q-r-s-t-+-+-+-+-+-+-+-+-+-+-+-+-+\n",
            "+-+-+-+-+-+-+-+-+-+-+-+-+-+-t-s-r-q-p-o-p-q-r-s-t-+-+-+-+-+-+-+-+-+-+-+-+-+-+\n",
            "+-+-+-+-+-+-+-+-+-+-+-+-+-+-+-t-s-r-q-p-q-r-s-t-+-+-+-+-+-+-+-+-+-+-+-+-+-+-+\n",
            "+-+-+-+-+-+-+-+-+-+-+-+-+-+-+-+-t-s-r-q-r-s-t-+-+-+-+-+-+-+-+-+-+-+-+-+-+-+-+\n",
            "+-+-+-+-+-+-+-+-+-+-+-+-+-+-+-+-+-t-s-r-s-t-+-+-+-+-+-+-+-+-+-+-+-+-+-+-+-+-+\n",
            "+-+-+-+-+-+-+-+-+-+-+-+-+-+-+-+-+-+-t-s-t-+-+-+-+-+-+-+-+-+-+-+-+-+-+-+-+-+-+\n",
            "+-+-+-+-+-+-+-+-+-+-+-+-+-+-+-+-+-+-+-t-+-+-+-+-+-+-+-+-+-+-+-+-+-+-+-+-+-+-+\n"
          ]
        }
      ]
    },
    {
      "cell_type": "code",
      "source": [
        "size = 1\n",
        "delimiter = '-'\n",
        "fill = '|'\n",
        "\n",
        "string = \"abcdefghijklmnopqrstuvwxyz\"\n",
        "\n",
        "charList = list(string[:size])\n",
        "\n",
        "count = 1\n",
        "incr = True\n",
        "\n",
        "while count > 0:\n",
        "\n",
        "  print (((fill + delimiter) * (size-count)) + delimiter.join(charList[-1:-1-count:-1]) + delimiter.join(charList[size-count:size])[1:] + ((delimiter + fill) * (size-count)))\n",
        "\n",
        "  if count == size:\n",
        "    incr = False\n",
        "    \n",
        "  if incr:\n",
        "    count += 1\n",
        "  else:\n",
        "    count -= 1\n",
        "\n",
        "\n"
      ],
      "metadata": {
        "id": "lBjY_fBh8P-4",
        "colab": {
          "base_uri": "https://localhost:8080/"
        },
        "outputId": "81ed75b6-849f-46fa-9f08-8f1a17a37744"
      },
      "execution_count": null,
      "outputs": [
        {
          "output_type": "stream",
          "name": "stdout",
          "text": [
            "a\n"
          ]
        }
      ]
    },
    {
      "cell_type": "markdown",
      "source": [
        "# Merge the tools\n",
        "https://www.hackerrank.com/challenges/merge-the-tools/problem?isFullScreen=true\n",
        "\n"
      ],
      "metadata": {
        "id": "deh3JSHVb515"
      }
    },
    {
      "cell_type": "code",
      "source": [
        "string = \"ABC\"\n",
        "k = 1\n",
        "\n",
        "count = 1\n",
        "printStr = \"\"\n",
        "for eachChar in string:\n",
        "  # print (count,\": \", eachChar)\n",
        "  if eachChar not in printStr:\n",
        "    printStr = printStr + eachChar\n",
        "    #print (\"New string: \", printStr)\n",
        "  count += 1\n",
        "  if count == k+1:\n",
        "    print (printStr)\n",
        "    printStr = \"\"\n",
        "    count = 1  "
      ],
      "metadata": {
        "id": "Y6y2h2Pd8vSr",
        "colab": {
          "base_uri": "https://localhost:8080/"
        },
        "outputId": "2a3de302-7412-4f6f-8548-4f7fa7e36327"
      },
      "execution_count": null,
      "outputs": [
        {
          "output_type": "stream",
          "name": "stdout",
          "text": [
            "A\n",
            "B\n",
            "C\n"
          ]
        }
      ]
    },
    {
      "cell_type": "markdown",
      "source": [
        "# Any or All\n",
        "https://www.hackerrank.com/challenges/any-or-all/problem?isFullScreen=true&h_r=next-challenge&h_v=zen"
      ],
      "metadata": {
        "id": "76KERsHbkIET"
      }
    },
    {
      "cell_type": "code",
      "source": [
        "inpStr = \"121 3 11 123321 999\"\n",
        "nums = map(int, inpStr.split())\n",
        "\n",
        "outList = []\n",
        "isPalindromic = False\n",
        "\n",
        "for eachNum in list(nums):\n",
        "    outList.append(eachNum>0)\n",
        "    \n",
        "    strList = list(str(abs(eachNum)))\n",
        "    #print (\"Evaluate :\",strList)\n",
        "    numOfDigits = len(strList)\n",
        "    midIndex = int((numOfDigits - numOfDigits%2) / 2)\n",
        "    #print (midIndex)\n",
        "    #print (strList[0:midIndex])\n",
        "    #print (strList[-1:-1-midIndex:-1])\n",
        "    #print (strList[0:midIndex] == strList[-1:-1-midIndex:-1])\n",
        "    if strList[0:midIndex] == strList[-1:-1-midIndex:-1]:\n",
        "      isPalindromic = True\n",
        "\n",
        "\n",
        "outList.append(isPalindromic)\n",
        "  \n",
        "print (all(outList))\n"
      ],
      "metadata": {
        "colab": {
          "base_uri": "https://localhost:8080/"
        },
        "id": "z8XtkVsTdSYB",
        "outputId": "24364c77-35ce-4c87-c21d-2ed0a5062afa"
      },
      "execution_count": null,
      "outputs": [
        {
          "output_type": "stream",
          "name": "stdout",
          "text": [
            "True\n"
          ]
        }
      ]
    },
    {
      "cell_type": "markdown",
      "source": [
        "# Word Order\n",
        "https://www.hackerrank.com/challenges/word-order/problem?isFullScreen=true"
      ],
      "metadata": {
        "id": "Q98atMDk6gK1"
      }
    },
    {
      "cell_type": "code",
      "source": [
        "n = int(input())\n",
        "inpList = []\n",
        "for each in range(0,n):\n",
        "    inpList.append(input())\n",
        "\n",
        "outStr = \"\"\n",
        "outList = []\n",
        "\n",
        "for eachStr in inpList:\n",
        "    #print (\"Current String :\", eachStr, \" Index:\",index)\n",
        "    if outList.count(eachStr) == 0:\n",
        "        outList.append(eachStr)\n",
        "        outStr = outStr + str(inpList.count(eachStr)) + \" \"\n",
        "\n",
        "print (len(outList))\n",
        "print (outStr)\n"
      ],
      "metadata": {
        "id": "jx6llpMfkakG"
      },
      "execution_count": null,
      "outputs": []
    },
    {
      "cell_type": "code",
      "source": [
        "n = int(input())\n",
        "outDict = {}\n",
        "for each in range(0,n):\n",
        "    newStr = input()\n",
        "    if newStr not in outDict.keys():\n",
        "      outDict[newStr] = 1\n",
        "    else:\n",
        "      count = outDict[newStr]\n",
        "      outDict.update({newStr:count+1})\n",
        "\n",
        "print (len(outDict))\n",
        "outStr = \"\"\n",
        "for each in outDict.values():\n",
        "  outStr = outStr + str(each) + \" \"\n",
        "print (outStr)"
      ],
      "metadata": {
        "colab": {
          "base_uri": "https://localhost:8080/"
        },
        "id": "bdCxmnVC7AEJ",
        "outputId": "a9c979fd-0f73-4eef-8270-810541a720d8"
      },
      "execution_count": null,
      "outputs": [
        {
          "output_type": "stream",
          "name": "stdout",
          "text": [
            "5\n",
            "1\n",
            "150\n",
            "1\n",
            "150\n",
            "1\n",
            "2\n",
            "3 2 \n"
          ]
        }
      ]
    },
    {
      "cell_type": "markdown",
      "source": [
        "# String Formatting - Print number, Octal, Hexadecimal and binary of a range of numbers\n",
        "https://www.hackerrank.com/challenges/python-string-formatting/problem?isFullScreen=true&h_r=next-challenge&h_v=zen"
      ],
      "metadata": {
        "id": "M3sBiyFxFYHb"
      }
    },
    {
      "cell_type": "code",
      "source": [
        "def print_formatted(number):\n",
        "    space = len(str(bin(number)))-1\n",
        "            \n",
        "    for x in range(1,number+1):\n",
        "        print (str(x).rjust(space-1,\" \") + str(oct(x))[2:].rjust(space,\" \") + str(hex(x))[2:].rjust(space,\" \") + str(bin(x))[2:].rjust(space,\" \"))\n",
        "        \n",
        "if __name__ == '__main__':\n",
        "    n = int(input())\n",
        "    print_formatted(n)"
      ],
      "metadata": {
        "id": "KoxWSPJe9B50",
        "colab": {
          "base_uri": "https://localhost:8080/"
        },
        "outputId": "32cf5be7-1d7f-4579-9ee4-74b3ec863a2f"
      },
      "execution_count": null,
      "outputs": [
        {
          "output_type": "stream",
          "name": "stdout",
          "text": [
            "17\n",
            "    1     1     1     1\n",
            "    2     2     2    10\n",
            "    3     3     3    11\n",
            "    4     4     4   100\n",
            "    5     5     5   101\n",
            "    6     6     6   110\n",
            "    7     7     7   111\n",
            "    8    10     8  1000\n",
            "    9    11     9  1001\n",
            "   10    12     a  1010\n",
            "   11    13     b  1011\n",
            "   12    14     c  1100\n",
            "   13    15     d  1101\n",
            "   14    16     e  1110\n",
            "   15    17     f  1111\n",
            "   16    20    10 10000\n",
            "   17    21    11 10001\n"
          ]
        }
      ]
    },
    {
      "cell_type": "markdown",
      "source": [
        "# Capitalize!\n",
        "\n",
        "https://www.hackerrank.com/challenges/capitalize/problem?isFullScreen=true"
      ],
      "metadata": {
        "id": "0-Yfs3Y_KEty"
      }
    },
    {
      "cell_type": "code",
      "source": [
        "    s = \"1 W 2 R 3g\"\n",
        "    print (s.title())\n",
        "    myStr = s.split(\" \")\n",
        "    print (myStr)\n",
        "    myStr = [x.capitalize() for x in myStr]\n",
        "    print (\" \".join(myStr))\n",
        "\n"
      ],
      "metadata": {
        "colab": {
          "base_uri": "https://localhost:8080/"
        },
        "id": "Yes-hpsMJ-rR",
        "outputId": "ec294dd1-4373-420b-de51-f5ecdc9c4cef"
      },
      "execution_count": null,
      "outputs": [
        {
          "output_type": "stream",
          "name": "stdout",
          "text": [
            "1 W 2 R 3G\n",
            "['1', 'W', '2', 'R', '3g']\n",
            "1 W 2 R 3g\n"
          ]
        }
      ]
    },
    {
      "cell_type": "markdown",
      "source": [
        "# Minion Game\n",
        "https://www.hackerrank.com/challenges/the-minion-game/problem?isFullScreen=true&h_r=next-challenge&h_v=zen"
      ],
      "metadata": {
        "id": "VFoh5FlwONqp"
      }
    },
    {
      "cell_type": "code",
      "source": [
        "string = input().strip()\n",
        "\n",
        "vowels = 'AEIOU'\n",
        "\n",
        "kevin = 0\n",
        "stuart = 0\n",
        "for i in range(len(string)):\n",
        "    if string[i] in vowels:\n",
        "        kevin += (len(string)-i)\n",
        "    else:\n",
        "        stuart += (len(string)-i)\n",
        "\n",
        "if stuart > kevin:\n",
        "    print (\"Stuart\", stuart)\n",
        "elif kevin > stuart:\n",
        "    print (\"Kevin\", kevin)\n",
        "else:\n",
        "    print (\"Draw\")"
      ],
      "metadata": {
        "id": "6_OhmYHhKNw0",
        "colab": {
          "base_uri": "https://localhost:8080/"
        },
        "outputId": "e47fe157-08a1-4f52-905d-834d27603124"
      },
      "execution_count": null,
      "outputs": [
        {
          "output_type": "stream",
          "name": "stdout",
          "text": [
            "BANANA\n",
            "Stuart 12\n"
          ]
        }
      ]
    },
    {
      "cell_type": "code",
      "source": [
        "    s = input()\n",
        "    \n",
        "    myDict = {}\n",
        "    for x in s:\n",
        "        print(x)\n",
        "        if x in myDict:\n",
        "            myDict[x] = myDict[x]+1\n",
        "            print (myDict)\n",
        "        else:\n",
        "            myDict[x] = 1\n",
        "            print (myDict)\n",
        "    \n",
        "    count = 0\n",
        "    sortedDict = sorted(myDict.items(), key = lambda a: a[0])\n",
        "    print (sortedDict)\n",
        "    for w in sorted(sortedDict, key=lambda b: b[1], reverse=True):\n",
        "        print(w[0], w[1])\n",
        "        count += 1\n",
        "        if count == 3:\n",
        "            break \n",
        "        "
      ],
      "metadata": {
        "colab": {
          "base_uri": "https://localhost:8080/"
        },
        "id": "UzkGoUuTwxOA",
        "outputId": "a8533efa-7d4c-472d-b799-44f9b3501118"
      },
      "execution_count": null,
      "outputs": [
        {
          "output_type": "stream",
          "name": "stdout",
          "text": [
            "abbbddcc\n",
            "a\n",
            "{'a': 1}\n",
            "b\n",
            "{'a': 1, 'b': 1}\n",
            "b\n",
            "{'a': 1, 'b': 2}\n",
            "b\n",
            "{'a': 1, 'b': 3}\n",
            "d\n",
            "{'a': 1, 'b': 3, 'd': 1}\n",
            "d\n",
            "{'a': 1, 'b': 3, 'd': 2}\n",
            "c\n",
            "{'a': 1, 'b': 3, 'd': 2, 'c': 1}\n",
            "c\n",
            "{'a': 1, 'b': 3, 'd': 2, 'c': 2}\n",
            "[('a', 1), ('b', 3), ('c', 2), ('d', 2)]\n",
            "b 3\n",
            "c 2\n",
            "d 2\n"
          ]
        }
      ]
    },
    {
      "cell_type": "markdown",
      "source": [
        "# Polar coordinates\n",
        "https://www.hackerrank.com/challenges/polar-coordinates/problem?isFullScreen=true"
      ],
      "metadata": {
        "id": "-6UN8RwcXjvp"
      }
    },
    {
      "cell_type": "code",
      "source": [
        "from cmath import phase\n",
        "import re\n",
        "\n",
        "inpList = re.findall(\"[-]?[0-9]+[.]?[0-9]*\", input())\n",
        "r = float(inpList[0])\n",
        "t = float(inpList[1])\n",
        "\n",
        "#print (r)\n",
        "#print (t)\n",
        "\n",
        "print (abs(complex(r, t)))\n",
        "print (phase(complex(r, t)))"
      ],
      "metadata": {
        "id": "4q9dBFBlwYxS",
        "colab": {
          "base_uri": "https://localhost:8080/"
        },
        "outputId": "bde34dee-3a61-453c-9702-9c0e4a048881"
      },
      "execution_count": null,
      "outputs": [
        {
          "output_type": "stream",
          "name": "stdout",
          "text": [
            "-1.0\n",
            "-5.0\n",
            "5.0990195135927845\n",
            "-1.7681918866447774\n"
          ]
        }
      ]
    },
    {
      "cell_type": "markdown",
      "source": [
        "# Collections.counter()\n",
        "https://www.hackerrank.com/challenges/collections-counter/problem?isFullScreen=true"
      ],
      "metadata": {
        "id": "6dLQGixiwx9Y"
      }
    },
    {
      "cell_type": "code",
      "source": [
        "# Method 1: Without using collections\n",
        "shoeCount = int(input())\n",
        "shoes = list(map(int, input().split()))\n",
        "\n",
        "earning = 0\n",
        "custCount = int(input())\n",
        "for x in range(custCount):\n",
        "    size, price = map(int, input().split())\n",
        "    if size in shoes:\n",
        "        #print (\"Yes\")\n",
        "        earning += price\n",
        "        shoes.remove(size)\n",
        "    #else:\n",
        "        #print(\"Not Available\")\n",
        "        \n",
        "print (earning)"
      ],
      "metadata": {
        "colab": {
          "base_uri": "https://localhost:8080/"
        },
        "id": "J2xSmkKvX2C8",
        "outputId": "1e408972-f63f-44e1-e22f-f78fea41b997"
      },
      "execution_count": null,
      "outputs": [
        {
          "output_type": "stream",
          "name": "stdout",
          "text": [
            "10\n",
            "3 4 5 6\n",
            "3\n",
            "3 50\n",
            "3 60\n",
            "9 10\n",
            "50\n"
          ]
        }
      ]
    },
    {
      "cell_type": "code",
      "source": [
        "# Method 2 - using collections.Counter\n",
        "from collections import Counter\n",
        "\n",
        "shoeCount = int(input())\n",
        "shoes = Counter(map(int, input().split()))\n",
        "custCount = int(input())\n",
        "\n",
        "earning = 0\n",
        "\n",
        "for i in range(custCount):\n",
        "    size, price = map(int, input().split())\n",
        "    if shoes[size]: \n",
        "        earning += price\n",
        "        shoes[size] -= 1\n",
        "\n",
        "print (earning)"
      ],
      "metadata": {
        "id": "d1xA-t1cJbEK"
      },
      "execution_count": null,
      "outputs": []
    },
    {
      "cell_type": "markdown",
      "source": [
        "# Text Wrap"
      ],
      "metadata": {
        "id": "D2w6SGuzDyel"
      }
    },
    {
      "cell_type": "code",
      "source": [
        "string = \"0123456789a\"\n",
        "width = 3\n",
        "\n",
        "outList = []\n",
        "i = 0\n",
        "\n",
        "while i < len(string):\n",
        "  # string[0:3]\n",
        "  # string[3:6]\n",
        "  # string[6:9]\n",
        "  print(string[i:i+width])\n",
        "  i += width \n",
        "\n",
        "\n",
        "#s = \"\\n\".join(outList)\n",
        "#print (s)"
      ],
      "metadata": {
        "colab": {
          "base_uri": "https://localhost:8080/"
        },
        "id": "J20qN-_sF30Y",
        "outputId": "7031847a-bd76-4335-9078-c0c8042bd377"
      },
      "execution_count": null,
      "outputs": [
        {
          "output_type": "stream",
          "name": "stdout",
          "text": [
            "012\n",
            "345\n",
            "678\n",
            "9a\n"
          ]
        }
      ]
    },
    {
      "cell_type": "code",
      "source": [
        "# Given in integer 1<=n<=9 \n",
        "# print the following\n",
        "# 1\n",
        "# 22\n",
        "# 333\n",
        "# (n-1)(n-1)(n-1)... n-1 times\n",
        "# Use only 2 lines\n",
        "# Method 1 - Using an additional for loop\n",
        "for i in range(1,int(input())): \n",
        "    print (sum([i*(10**(each-1)) for each in range(1,i+1)]))"
      ],
      "metadata": {
        "colab": {
          "base_uri": "https://localhost:8080/"
        },
        "id": "4lPGHOaxN5Lg",
        "outputId": "1f153065-bf1a-41e2-91b3-e0457c8c855b"
      },
      "execution_count": null,
      "outputs": [
        {
          "output_type": "stream",
          "name": "stdout",
          "text": [
            "5\n",
            "1\n",
            "22\n",
            "333\n",
            "4444\n"
          ]
        }
      ]
    },
    {
      "cell_type": "code",
      "source": [
        "# Given in integer 1<=n<=9 \n",
        "# print the following\n",
        "# 1\n",
        "# 22\n",
        "# 333\n",
        "# (n-1)(n-1)(n-1)... n-1 times\n",
        "# Use only 2 lines\n",
        "# Method 2 - Using String mutiplication\n",
        "for i in range(1,int(input())): \n",
        "    print (str(i)*i)"
      ],
      "metadata": {
        "colab": {
          "base_uri": "https://localhost:8080/"
        },
        "id": "4XUHM9QJpM7r",
        "outputId": "bbdf1f5f-eeaf-461b-8b27-9efe319e33d0"
      },
      "execution_count": null,
      "outputs": [
        {
          "output_type": "stream",
          "name": "stdout",
          "text": [
            "5\n",
            "1\n",
            "22\n",
            "333\n",
            "4444\n"
          ]
        }
      ]
    },
    {
      "cell_type": "code",
      "source": [
        "# Given in integer 1<=n<=9 \n",
        "# print the following\n",
        "# 1\n",
        "# 22\n",
        "# 333\n",
        "# (n-1)(n-1)(n-1)... n-1 times\n",
        "# Use only 2 lines\n",
        "# Method 3 - Using Arithmetic\n",
        "for i in range(1,int(input())): \n",
        "    print (i * ((10**i)-1)//9)"
      ],
      "metadata": {
        "id": "Rf2va1L1p6wV",
        "colab": {
          "base_uri": "https://localhost:8080/"
        },
        "outputId": "35f9f510-ac22-469b-b527-f9d2c29ffb9a"
      },
      "execution_count": null,
      "outputs": [
        {
          "output_type": "stream",
          "name": "stdout",
          "text": [
            "5\n",
            "1\n",
            "22\n",
            "333\n",
            "4444\n"
          ]
        }
      ]
    },
    {
      "cell_type": "code",
      "source": [
        "# Use only 2 lines"
      ],
      "metadata": {
        "id": "K_lv3p6cLKNM"
      },
      "execution_count": null,
      "outputs": []
    },
    {
      "cell_type": "markdown",
      "source": [
        "# Time Delta\n",
        "https://www.hackerrank.com/challenges/python-time-delta/problem?isFullScreen=true"
      ],
      "metadata": {
        "id": "ht_XJ2jXrHyf"
      }
    },
    {
      "cell_type": "code",
      "source": [
        "ts_inp = \"\"\"Fri 11 Feb 2078 00:05:21 +0400\n",
        "Mon 29 Dec 2064 03:33:48 -1100\n",
        "Wed 12 May 2269 23:22:15 -0500\n",
        "Tue 05 Oct 2269 02:12:07 -0200\n",
        "Sat 14 Sep 2126 00:36:44 +1400\n",
        "Wed 22 Jun 2050 23:18:57 -0100\n",
        "Sat 17 Sep 2107 18:52:42 +0530\n",
        "Wed 24 Apr 2199 15:00:11 -0900\n",
        "Sat 24 Aug 2080 00:35:31 +1030\n",
        "Mon 12 Jan 1998 01:22:02 -0700\n",
        "Thu 16 Jul 2026 06:28:56 -0930\n",
        "Sun 20 Apr 2149 00:02:39 -0400\n",
        "Sat 09 Jun 1979 12:33:03 +0200\n",
        "Sat 28 Dec 2120 16:55:13 +0500\n",
        "Thu 19 Sep 2199 10:47:49 +0330\n",
        "Sun 15 May 2016 02:21:14 +0630\n",
        "Sun 23 Nov 2110 22:33:19 -1100\n",
        "Sun 22 Oct 2141 05:14:53 +1100\n",
        "Tue 03 Mar 2065 08:11:36 -0700\n",
        "Mon 17 Jan 2163 01:56:54 +0300\n",
        "Thu 15 Aug 2069 05:42:18 -0930\n",
        "Fri 03 Aug 2227 17:53:10 -0430\n",
        "Fri 05 Nov 1999 05:15:31 -0430\n",
        "Thu 19 Jun 2155 23:27:54 -0600\n",
        "Wed 24 May 2079 00:19:55 -0500\n",
        "Wed 15 Aug 2277 09:50:14 -0900\n",
        "Thu 20 Oct 2140 04:28:27 +0330\n",
        "Thu 06 Mar 2104 23:00:38 -0430\n",
        "Sat 25 Mar 2169 04:20:31 +0800\n",
        "Sun 26 Jun 2107 16:51:54 +0300\n",
        "Sat 01 Apr 2090 06:40:55 +0900\n",
        "Sun 28 Jan 2283 11:34:27 +0545\n",
        "Sat 04 Aug 2238 13:24:34 -0700\n",
        "Fri 30 Sep 2005 23:39:08 +0300\n",
        "Thu 09 Jul 2105 02:11:50 +0900\n",
        "Tue 22 Mar 2146 00:37:27 -0700\n",
        "Fri 20 Mar 2015 10:10:16 -0500\n",
        "Mon 03 Feb 2138 23:23:23 +0930\n",
        "Thu 01 Jan 2105 11:21:13 +0500\n",
        "Mon 04 Oct 2117 01:49:25 -1100\n",
        "Tue 19 Jul 2061 17:15:10 -1000\n",
        "Mon 22 Apr 2250 10:04:43 +1100\n",
        "Mon 15 Jul 2058 00:43:43 +0400\n",
        "Sun 03 Aug 2132 11:02:09 +1030\n",
        "Fri 10 Jan 2138 02:13:59 -0400\n",
        "Tue 23 Mar 2083 06:59:22 -0300\n",
        "Sat 03 May 2206 23:02:53 -0430\n",
        "Thu 30 Aug 2068 03:17:00 -0800\n",
        "Tue 28 Jul 2246 19:08:25 +1030\n",
        "Tue 02 Jul 2193 04:39:00 +0000\n",
        "Fri 15 Feb 2228 15:43:23 +0900\n",
        "Tue 31 Jul 2018 13:13:28 +0930\n",
        "Sat 17 Nov 2204 07:53:40 +0800\n",
        "Sun 12 Nov 1978 13:02:43 -0300\n",
        "Wed 16 Nov 2157 07:56:31 +0800\n",
        "Fri 19 Mar 2049 14:18:58 -0430\n",
        "Sat 26 May 2227 17:18:53 +0100\n",
        "Tue 19 Nov 2024 13:11:14 +0930\n",
        "Fri 28 Apr 1972 10:08:34 -0500\n",
        "Tue 11 Aug 2178 03:34:41 -0900\n",
        "Sun 30 Jul 2147 14:56:43 +1400\n",
        "Fri 19 Jul 2171 15:56:03 +1100\n",
        "Thu 10 Mar 2168 22:15:22 +0000\n",
        "Mon 30 Jul 2159 07:54:24 +0200\n",
        "Mon 07 Dec 2257 06:40:47 -0100\n",
        "Sat 09 Jan 2140 17:18:29 +0500\n",
        "Tue 22 Sep 2189 18:33:00 +1300\n",
        "Wed 29 Sep 1971 18:10:00 -1100\n",
        "Fri 03 Jan 2076 05:17:07 +1000\n",
        "Sun 17 May 2071 15:51:09 -0600\n",
        "Fri 29 Nov 2250 05:12:44 +0200\n",
        "Wed 26 Apr 2248 05:28:52 -0700\n",
        "Fri 20 Oct 2254 08:16:14 +1030\n",
        "Sat 01 Jan 2281 17:23:04 +0545\n",
        "Wed 21 Jun 2243 11:15:57 -0800\n",
        "Sat 28 Apr 2131 05:15:09 +0630\n",
        "Wed 07 Sep 2163 21:17:42 -0700\n",
        "Tue 20 Aug 2171 14:39:48 -0600\n",
        "Mon 14 Jun 2060 07:07:47 -1200\n",
        "Wed 31 Mar 1971 15:38:38 +0530\n",
        "Sat 11 Nov 2062 20:20:09 +1200\n",
        "Tue 07 Jan 2081 18:42:21 +0430\n",
        "Sat 03 Apr 2269 09:57:27 -0430\n",
        "Sat 10 Jan 2201 18:39:13 +0545\n",
        "Fri 24 Feb 2136 09:48:49 +1100\n",
        "Tue 21 Mar 2062 10:10:16 +1200\n",
        "Sat 29 Jun 2137 20:49:04 +0430\n",
        "Sun 03 Oct 2252 19:34:08 -0200\n",
        "Fri 04 Jan 2069 10:30:15 -0200\n",
        "Tue 17 May 2214 01:48:33 +0000\n",
        "Fri 11 Mar 2016 21:13:54 -0100\n",
        "Fri 07 Mar 2228 21:01:13 +0300\n",
        "Tue 12 Apr 2231 15:38:00 +0200\n",
        "Sun 05 Jan 1992 07:37:10 -0500\n",
        "Tue 24 Apr 2198 16:14:38 +1300\n",
        "Tue 27 Feb 2018 10:46:47 -0500\n",
        "Sat 10 Apr 2280 22:54:22 -0900\n",
        "Fri 12 Jan 2080 08:56:55 +1000\n",
        "Fri 17 Nov 2276 15:42:42 +0400\n",
        "Thu 06 Nov 2070 10:05:08 +0700\n",
        "Mon 24 Oct 2191 04:55:27 +0300\n",
        "Mon 12 Jan 2161 03:26:51 -0900\n",
        "Thu 24 Oct 1996 10:08:51 -0430\n",
        "Tue 03 Aug 2038 23:15:58 +0800\n",
        "Tue 31 Oct 2006 01:34:19 +0100\n",
        "Sat 23 Jun 2007 10:25:51 -1000\n",
        "Fri 03 Jul 2150 05:56:11 +0600\n",
        "Sat 29 Dec 2260 15:12:49 +0545\n",
        "Fri 03 Jul 2065 01:31:24 -0300\n",
        "Tue 14 Apr 2116 02:09:21 -0700\n",
        "Mon 25 Jul 2033 15:13:38 +0400\n",
        "Mon 11 Aug 2087 03:38:34 +1400\n",
        "Thu 28 Jun 2170 07:23:53 +0900\n",
        "Sun 29 Apr 2260 02:29:29 +1030\n",
        "Wed 02 Apr 2053 01:21:28 -0900\n",
        "Mon 31 Oct 2242 11:27:13 -0900\n",
        "Fri 29 Sep 2084 02:07:10 -1000\n",
        "Sun 04 May 2183 11:28:17 -0400\n",
        "Fri 12 Sep 2014 01:35:03 +0545\n",
        "Sat 23 Jan 2286 08:03:53 +0600\n",
        "Fri 28 Apr 2209 08:14:02 +0930\n",
        "Mon 03 Sep 2204 07:26:04 +0400\n",
        "Sat 17 Oct 2218 16:20:23 +0630\n",
        "Fri 10 Jul 2133 06:02:11 -0400\n",
        "Thu 24 Sep 2178 18:14:35 -0930\n",
        "Sun 16 Dec 2227 23:03:40 -1100\n",
        "Fri 20 Mar 1992 19:32:35 +0000\n",
        "Mon 16 Apr 2181 23:46:22 +1030\n",
        "Tue 21 May 2097 14:50:40 +0800\n",
        "Sat 06 Sep 2036 20:31:27 +0545\n",
        "Mon 20 Sep 2088 16:37:20 -0800\n",
        "Tue 26 Apr 2112 15:53:34 -0500\n",
        "Mon 02 Mar 2048 11:39:54 -0800\n",
        "Sat 06 Jul 2261 06:47:26 +1100\n",
        "Sat 22 Jan 1977 13:32:22 +1030\n",
        "Sat 24 Jan 2178 22:37:08 +0330\n",
        "Tue 12 Jun 2046 11:37:04 -0500\n",
        "Sat 21 May 2044 14:06:13 +1030\n",
        "Fri 12 Oct 2063 22:07:36 +1030\n",
        "Thu 05 Jan 1984 08:58:18 +0300\n",
        "Wed 18 Feb 2235 01:26:39 +1100\n",
        "Mon 01 May 2023 19:25:34 -1100\n",
        "Mon 20 Nov 2276 13:34:20 +0930\n",
        "Fri 15 Jun 2029 08:03:18 -1000\n",
        "Sat 31 Jan 2246 04:22:55 +0600\n",
        "Tue 26 Jul 2033 22:17:49 -0600\n",
        "Tue 02 Aug 1994 23:34:02 -0100\n",
        "Thu 12 Nov 2235 06:41:07 +1400\n",
        "Wed 25 May 2033 03:35:01 +0600\n",
        "Thu 25 Dec 2110 19:08:36 +0900\n",
        "Sun 15 Mar 2009 14:05:33 -0400\n",
        "Fri 13 Jun 1980 21:28:12 +1300\n",
        "Thu 18 Jun 2009 18:51:53 +1400\n",
        "Tue 25 Nov 2059 18:30:23 +1000\n",
        "Tue 18 Feb 2212 02:12:43 -0930\n",
        "Tue 06 Oct 2268 03:10:40 +0500\n",
        "Fri 09 Jul 2286 08:53:13 +0930\n",
        "Mon 26 Feb 2142 01:15:30 +0930\n",
        "Sun 09 Jan 2022 19:02:40 +1300\n",
        "Tue 12 Aug 2059 14:07:10 +0800\n",
        "Sat 08 Jul 2023 08:13:44 -1200\n",
        "Sun 12 Dec 2010 22:19:32 +0630\n",
        "Fri 01 Jul 2050 19:10:54 -0100\n",
        "Thu 10 Apr 2138 14:59:21 -0500\n",
        "Wed 25 Nov 2189 06:45:13 +0200\n",
        "Sat 22 Oct 2061 13:20:00 +0530\n",
        "Fri 22 Mar 1985 22:34:45 +0600\n",
        "Thu 19 Mar 2172 05:41:08 -0300\n",
        "Sat 25 Sep 1982 05:50:54 +0930\n",
        "Sun 21 Apr 2278 04:24:45 -1200\n",
        "Wed 05 Oct 2050 12:02:14 +0530\n",
        "Wed 30 Apr 2059 08:09:46 +1400\n",
        "Mon 09 Oct 2186 20:12:57 +0330\n",
        "Sat 29 Dec 2255 18:37:49 +0500\n",
        "Tue 15 Dec 2009 07:01:49 +1300\n",
        "Sat 14 Apr 2221 02:56:39 -0930\n",
        "Sun 29 Nov 1987 02:10:57 -0600\n",
        "Sat 25 Jun 2208 13:57:19 +0530\n",
        "Tue 26 Nov 2211 22:41:01 +0430\n",
        "Mon 01 Apr 2052 19:10:40 -0500\n",
        "Sun 07 Apr 2267 13:06:14 -0100\n",
        "Wed 22 Nov 2124 11:49:22 +0500\n",
        "Sun 16 Jun 2216 08:18:21 -0430\n",
        "Fri 13 Sep 1991 21:59:15 +0200\n",
        "Tue 17 May 1977 17:24:30 +0430\n",
        "Tue 08 Jan 2019 13:31:23 +0300\n",
        "Fri 10 Jul 2144 06:22:53 +0930\n",
        "Sat 10 Oct 1992 15:42:54 -0400\n",
        "Mon 21 Jun 2088 09:26:48 +0330\n",
        "Fri 26 Aug 2146 12:39:37 -0800\n",
        "Sun 23 Jun 2086 03:58:25 +1100\n",
        "Tue 24 Oct 2265 19:23:42 +0100\n",
        "Sat 25 Jun 2078 21:33:09 +0500\n",
        "Wed 14 Feb 2283 11:48:06 +0600\n",
        "Mon 29 Dec 2223 04:13:37 +0330\n",
        "Fri 26 Dec 2036 13:42:38 +1100\n",
        "Sat 06 Aug 2061 15:39:33 -1000\n",
        "Thu 20 Nov 2223 05:28:37 -1000\n",
        "Wed 29 Aug 2029 06:11:15 +0900\n",
        "Thu 11 Sep 2217 22:45:23 +0630\n",
        "\"\"\"\n",
        "\n",
        "import calendar as cal\n",
        "import time\n",
        "\n",
        "def get_seconds(timestamp):\n",
        "    # Use <Calendar.timegm()> and <time.strptime()> to calculate seconds\n",
        "    # This does not adjusted for timezone\n",
        "    ts = cal.timegm(time.strptime(timestamp, \"%a %d %b %Y %H:%M:%S %z\"))\n",
        "\n",
        "    # Evaluate the offset seconds for the timezone based on the \n",
        "    # last 4 characters of the timestamp\n",
        "    offset_secs = int(timestamp[-4:-2]) * 3600 + int(timestamp[-2:]) * 60\n",
        "\n",
        "    # Based on positive or negative timezone offset, apply the offset accordingly \n",
        "    # to get absolute time in seconds\n",
        "    secs = ts - offset_secs if (timestamp[-5] == '+') else ts + offset_secs\n",
        "    \n",
        "    return secs\n",
        "\n",
        "# Complete the time_delta function below.\n",
        "def time_delta(t1, t2):\n",
        "    print (t1)\n",
        "    print (t2)\n",
        "    return str(abs(get_seconds(t1) - get_seconds(t2))\n",
        "    \n",
        "if __name__ == '__main__':\n",
        "    #fptr = open(os.environ['OUTPUT_PATH'], 'w')\n",
        "\n",
        "    #t = int(input())\n",
        "\n",
        "    #for t_itr in range(t):\n",
        "\n",
        "    ts_list = ts_inp.splitlines()\n",
        "    i = 0\n",
        "\n",
        "    while i < len(ts_list):\n",
        "        delta = time_delta(ts_list[i], ts_list[i+1])\n",
        "        print (delta)\n",
        "        i+=2\n",
        "\n"
      ],
      "metadata": {
        "colab": {
          "base_uri": "https://localhost:8080/"
        },
        "id": "S-v45m-0rIKv",
        "outputId": "b38f3463-7c5b-488d-9b11-a82639086258"
      },
      "execution_count": null,
      "outputs": [
        {
          "output_type": "stream",
          "name": "stdout",
          "text": [
            "Fri 11 Feb 2078 00:05:21 +0400\n",
            "Mon 29 Dec 2064 03:33:48 -1100\n",
            "Fri 11 Feb 2078 00:05:21 +0400 3411749121\n",
            "Mon 29 Dec 2064 03:33:48 -1100 2997786828\n",
            "413962293\n",
            "Wed 12 May 2269 23:22:15 -0500\n",
            "Tue 05 Oct 2269 02:12:07 -0200\n",
            "Wed 12 May 2269 23:22:15 -0500 9446991735\n",
            "Tue 05 Oct 2269 02:12:07 -0200 9459519127\n",
            "-12527392\n",
            "Sat 14 Sep 2126 00:36:44 +1400\n",
            "Wed 22 Jun 2050 23:18:57 -0100\n",
            "Sat 14 Sep 2126 00:36:44 +1400 4944969404\n",
            "Wed 22 Jun 2050 23:18:57 -0100 2539556337\n",
            "2405413067\n",
            "Sat 17 Sep 2107 18:52:42 +0530\n",
            "Wed 24 Apr 2199 15:00:11 -0900\n",
            "Sat 17 Sep 2107 18:52:42 +0530 4345708962\n",
            "Wed 24 Apr 2199 15:00:11 -0900 7236432011\n",
            "-2890723049\n",
            "Sat 24 Aug 2080 00:35:31 +1030\n",
            "Mon 12 Jan 1998 01:22:02 -0700\n",
            "Sat 24 Aug 2080 00:35:31 +1030 3491647531\n",
            "Mon 12 Jan 1998 01:22:02 -0700 884593322\n",
            "2607054209\n",
            "Thu 16 Jul 2026 06:28:56 -0930\n",
            "Sun 20 Apr 2149 00:02:39 -0400\n",
            "Thu 16 Jul 2026 06:28:56 -0930 1784217536\n",
            "Sun 20 Apr 2149 00:02:39 -0400 5658177759\n",
            "-3873960223\n",
            "Sat 09 Jun 1979 12:33:03 +0200\n",
            "Sat 28 Dec 2120 16:55:13 +0500\n",
            "Sat 09 Jun 1979 12:33:03 +0200 297772383\n",
            "Sat 28 Dec 2120 16:55:13 +0500 4764830113\n",
            "-4467057730\n",
            "Thu 19 Sep 2199 10:47:49 +0330\n",
            "Sun 15 May 2016 02:21:14 +0630\n",
            "Thu 19 Sep 2199 10:47:49 +0330 7249159069\n",
            "Sun 15 May 2016 02:21:14 +0630 1463255474\n",
            "5785903595\n",
            "Sun 23 Nov 2110 22:33:19 -1100\n",
            "Sun 22 Oct 2141 05:14:53 +1100\n",
            "Sun 23 Nov 2110 22:33:19 -1100 4446264799\n",
            "Sun 22 Oct 2141 05:14:53 +1100 5421665693\n",
            "-975400894\n",
            "Tue 03 Mar 2065 08:11:36 -0700\n",
            "Mon 17 Jan 2163 01:56:54 +0300\n",
            "Tue 03 Mar 2065 08:11:36 -0700 3003318696\n",
            "Mon 17 Jan 2163 01:56:54 +0300 6091887414\n",
            "-3088568718\n",
            "Thu 15 Aug 2069 05:42:18 -0930\n",
            "Fri 03 Aug 2227 17:53:10 -0430\n",
            "Thu 15 Aug 2069 05:42:18 -0930 3143805138\n",
            "Fri 03 Aug 2227 17:53:10 -0430 8128678990\n",
            "-4984873852\n",
            "Fri 05 Nov 1999 05:15:31 -0430\n",
            "Thu 19 Jun 2155 23:27:54 -0600\n",
            "Fri 05 Nov 1999 05:15:31 -0430 941795131\n",
            "Thu 19 Jun 2155 23:27:54 -0600 5852755674\n",
            "-4910960543\n",
            "Wed 24 May 2079 00:19:55 -0500\n",
            "Wed 15 Aug 2277 09:50:14 -0900\n",
            "Wed 24 May 2079 00:19:55 -0500 3452131195\n",
            "Wed 15 Aug 2277 09:50:14 -0900 9707626214\n",
            "-6255495019\n",
            "Thu 20 Oct 2140 04:28:27 +0330\n",
            "Thu 06 Mar 2104 23:00:38 -0430\n",
            "Thu 20 Oct 2140 04:28:27 +0330 5389981107\n",
            "Thu 06 Mar 2104 23:00:38 -0430 4234303838\n",
            "1155677269\n",
            "Sat 25 Mar 2169 04:20:31 +0800\n",
            "Sun 26 Jun 2107 16:51:54 +0300\n",
            "Sat 25 Mar 2169 04:20:31 +0800 6287055631\n",
            "Sun 26 Jun 2107 16:51:54 +0300 4338539514\n",
            "1948516117\n",
            "Sat 01 Apr 2090 06:40:55 +0900\n",
            "Sun 28 Jan 2283 11:34:27 +0545\n",
            "Sat 01 Apr 2090 06:40:55 +0900 3794679655\n",
            "Sun 28 Jan 2283 11:34:27 +0545 9879688167\n",
            "-6085008512\n",
            "Sat 04 Aug 2238 13:24:34 -0700\n",
            "Fri 30 Sep 2005 23:39:08 +0300\n",
            "Sat 04 Aug 2238 13:24:34 -0700 8475913474\n",
            "Fri 30 Sep 2005 23:39:08 +0300 1128112748\n",
            "7347800726\n",
            "Thu 09 Jul 2105 02:11:50 +0900\n",
            "Tue 22 Mar 2146 00:37:27 -0700\n",
            "Thu 09 Jul 2105 02:11:50 +0900 4276516310\n",
            "Tue 22 Mar 2146 00:37:27 -0700 5560990647\n",
            "-1284474337\n",
            "Fri 20 Mar 2015 10:10:16 -0500\n",
            "Mon 03 Feb 2138 23:23:23 +0930\n",
            "Fri 20 Mar 2015 10:10:16 -0500 1426864216\n",
            "Mon 03 Feb 2138 23:23:23 +0930 5304491603\n",
            "-3877627387\n",
            "Thu 01 Jan 2105 11:21:13 +0500\n",
            "Mon 04 Oct 2117 01:49:25 -1100\n",
            "Thu 01 Jan 2105 11:21:13 +0500 4260234073\n",
            "Mon 04 Oct 2117 01:49:25 -1100 4662794965\n",
            "-402560892\n",
            "Tue 19 Jul 2061 17:15:10 -1000\n",
            "Mon 22 Apr 2250 10:04:43 +1100\n",
            "Tue 19 Jul 2061 17:15:10 -1000 2889054910\n",
            "Mon 22 Apr 2250 10:04:43 +1100 8845542283\n",
            "-5956487373\n",
            "Mon 15 Jul 2058 00:43:43 +0400\n",
            "Sun 03 Aug 2132 11:02:09 +1030\n",
            "Mon 15 Jul 2058 00:43:43 +0400 2793905023\n",
            "Sun 03 Aug 2132 11:02:09 +1030 5130779529\n",
            "-2336874506\n",
            "Fri 10 Jan 2138 02:13:59 -0400\n",
            "Tue 23 Mar 2083 06:59:22 -0300\n",
            "Fri 10 Jan 2138 02:13:59 -0400 5302390439\n",
            "Tue 23 Mar 2083 06:59:22 -0300 3573021562\n",
            "1729368877\n",
            "Sat 03 May 2206 23:02:53 -0430\n",
            "Thu 30 Aug 2068 03:17:00 -0800\n",
            "Sat 03 May 2206 23:02:53 -0430 7458060773\n",
            "Thu 30 Aug 2068 03:17:00 -0800 3113551020\n",
            "4344509753\n",
            "Tue 28 Jul 2246 19:08:25 +1030\n",
            "Tue 02 Jul 2193 04:39:00 +0000\n",
            "Tue 28 Jul 2246 19:08:25 +1030 8727727105\n",
            "Tue 02 Jul 2193 04:39:00 +0000 7053021540\n",
            "1674705565\n",
            "Fri 15 Feb 2228 15:43:23 +0900\n",
            "Tue 31 Jul 2018 13:13:28 +0930\n",
            "Fri 15 Feb 2228 15:43:23 +0900 8145557003\n",
            "Tue 31 Jul 2018 13:13:28 +0930 1533008608\n",
            "6612548395\n",
            "Sat 17 Nov 2204 07:53:40 +0800\n",
            "Sun 12 Nov 1978 13:02:43 -0300\n",
            "Sat 17 Nov 2204 07:53:40 +0800 7411996420\n",
            "Sun 12 Nov 1978 13:02:43 -0300 279734563\n",
            "7132261857\n",
            "Wed 16 Nov 2157 07:56:31 +0800\n",
            "Fri 19 Mar 2049 14:18:58 -0430\n",
            "Wed 16 Nov 2157 07:56:31 +0800 5928767791\n",
            "Fri 19 Mar 2049 14:18:58 -0430 2499792538\n",
            "3428975253\n",
            "Sat 26 May 2227 17:18:53 +0100\n",
            "Tue 19 Nov 2024 13:11:14 +0930\n",
            "Sat 26 May 2227 17:18:53 +0100 8122695533\n",
            "Tue 19 Nov 2024 13:11:14 +0930 1731987674\n",
            "6390707859\n",
            "Fri 28 Apr 1972 10:08:34 -0500\n",
            "Tue 11 Aug 2178 03:34:41 -0900\n",
            "Fri 28 Apr 1972 10:08:34 -0500 73321714\n",
            "Tue 11 Aug 2178 03:34:41 -0900 6583120481\n",
            "-6509798767\n",
            "Sun 30 Jul 2147 14:56:43 +1400\n",
            "Fri 19 Jul 2171 15:56:03 +1100\n",
            "Sun 30 Jul 2147 14:56:43 +1400 5603734603\n",
            "Fri 19 Jul 2171 15:56:03 +1100 6360180963\n",
            "-756446360\n",
            "Thu 10 Mar 2168 22:15:22 +0000\n",
            "Mon 30 Jul 2159 07:54:24 +0200\n",
            "Thu 10 Mar 2168 22:15:22 +0000 6254316922\n",
            "Mon 30 Jul 2159 07:54:24 +0200 5982443664\n",
            "271873258\n",
            "Mon 07 Dec 2257 06:40:47 -0100\n",
            "Sat 09 Jan 2140 17:18:29 +0500\n",
            "Mon 07 Dec 2257 06:40:47 -0100 9086283647\n",
            "Sat 09 Jan 2140 17:18:29 +0500 5365397909\n",
            "3720885738\n",
            "Tue 22 Sep 2189 18:33:00 +1300\n",
            "Wed 29 Sep 1971 18:10:00 -1100\n",
            "Tue 22 Sep 2189 18:33:00 +1300 6933879180\n",
            "Wed 29 Sep 1971 18:10:00 -1100 55055400\n",
            "6878823780\n",
            "Fri 03 Jan 2076 05:17:07 +1000\n",
            "Sun 17 May 2071 15:51:09 -0600\n",
            "Fri 03 Jan 2076 05:17:07 +1000 3345218227\n",
            "Sun 17 May 2071 15:51:09 -0600 3199125069\n",
            "146093158\n",
            "Fri 29 Nov 2250 05:12:44 +0200\n",
            "Wed 26 Apr 2248 05:28:52 -0700\n",
            "Fri 29 Nov 2250 05:12:44 +0200 8864651564\n",
            "Wed 26 Apr 2248 05:28:52 -0700 8782864132\n",
            "81787432\n",
            "Fri 20 Oct 2254 08:16:14 +1030\n",
            "Sat 01 Jan 2281 17:23:04 +0545\n",
            "Fri 20 Oct 2254 08:16:14 +1030 8987406374\n",
            "Sat 01 Jan 2281 17:23:04 +0545 9814304284\n",
            "-826897910\n",
            "Wed 21 Jun 2243 11:15:57 -0800\n",
            "Sat 28 Apr 2131 05:15:09 +0630\n",
            "Wed 21 Jun 2243 11:15:57 -0800 8629874157\n",
            "Sat 28 Apr 2131 05:15:09 +0630 5090769909\n",
            "3539104248\n",
            "Wed 07 Sep 2163 21:17:42 -0700\n",
            "Tue 20 Aug 2171 14:39:48 -0600\n",
            "Wed 07 Sep 2163 21:17:42 -0700 6112124262\n",
            "Tue 20 Aug 2171 14:39:48 -0600 6363002388\n",
            "-250878126\n",
            "Mon 14 Jun 2060 07:07:47 -1200\n",
            "Wed 31 Mar 1971 15:38:38 +0530\n",
            "Mon 14 Jun 2060 07:07:47 -1200 2854465667\n",
            "Wed 31 Mar 1971 15:38:38 +0530 39262118\n",
            "2815203549\n",
            "Sat 11 Nov 2062 20:20:09 +1200\n",
            "Tue 07 Jan 2081 18:42:21 +0430\n",
            "Sat 11 Nov 2062 20:20:09 +1200 2930458809\n",
            "Tue 07 Jan 2081 18:42:21 +0430 3503484741\n",
            "-573025932\n",
            "Sat 03 Apr 2269 09:57:27 -0430\n",
            "Sat 10 Jan 2201 18:39:13 +0545\n",
            "Sat 03 Apr 2269 09:57:27 -0430 9443572047\n",
            "Sat 10 Jan 2201 18:39:13 +0545 7290478453\n",
            "2153093594\n",
            "Fri 24 Feb 2136 09:48:49 +1100\n",
            "Tue 21 Mar 2062 10:10:16 +1200\n",
            "Fri 24 Feb 2136 09:48:49 +1100 5243093329\n",
            "Tue 21 Mar 2062 10:10:16 +1200 2910118216\n",
            "2332975113\n",
            "Sat 29 Jun 2137 20:49:04 +0430\n",
            "Sun 03 Oct 2252 19:34:08 -0200\n",
            "Sat 29 Jun 2137 20:49:04 +0430 5285578744\n",
            "Sun 03 Oct 2252 19:34:08 -0200 8922951248\n",
            "-3637372504\n",
            "Fri 04 Jan 2069 10:30:15 -0200\n",
            "Tue 17 May 2214 01:48:33 +0000\n",
            "Fri 04 Jan 2069 10:30:15 -0200 3124528215\n",
            "Tue 17 May 2214 01:48:33 +0000 7711638513\n",
            "-4587110298\n",
            "Fri 11 Mar 2016 21:13:54 -0100\n",
            "Fri 07 Mar 2228 21:01:13 +0300\n",
            "Fri 11 Mar 2016 21:13:54 -0100 1457734434\n",
            "Fri 07 Mar 2228 21:01:13 +0300 8147412073\n",
            "-6689677639\n",
            "Tue 12 Apr 2231 15:38:00 +0200\n",
            "Sun 05 Jan 1992 07:37:10 -0500\n",
            "Tue 12 Apr 2231 15:38:00 +0200 8245114680\n",
            "Sun 05 Jan 1992 07:37:10 -0500 694615030\n",
            "7550499650\n",
            "Tue 24 Apr 2198 16:14:38 +1300\n",
            "Tue 27 Feb 2018 10:46:47 -0500\n",
            "Tue 24 Apr 2198 16:14:38 +1300 7204821278\n",
            "Tue 27 Feb 2018 10:46:47 -0500 1519746407\n",
            "5685074871\n",
            "Sat 10 Apr 2280 22:54:22 -0900\n",
            "Fri 12 Jan 2080 08:56:55 +1000\n",
            "Sat 10 Apr 2280 22:54:22 -0900 9791394862\n",
            "Fri 12 Jan 2080 08:56:55 +1000 3472239415\n",
            "6319155447\n",
            "Fri 17 Nov 2276 15:42:42 +0400\n",
            "Thu 06 Nov 2070 10:05:08 +0700\n",
            "Fri 17 Nov 2276 15:42:42 +0400 9684186162\n",
            "Thu 06 Nov 2070 10:05:08 +0700 3182468708\n",
            "6501717454\n",
            "Mon 24 Oct 2191 04:55:27 +0300\n",
            "Mon 12 Jan 2161 03:26:51 -0900\n",
            "Mon 24 Oct 2191 04:55:27 +0300 6999702927\n",
            "Mon 12 Jan 2161 03:26:51 -0900 6028432011\n",
            "971270916\n",
            "Thu 24 Oct 1996 10:08:51 -0430\n",
            "Tue 03 Aug 2038 23:15:58 +0800\n",
            "Thu 24 Oct 1996 10:08:51 -0430 846167931\n",
            "Tue 03 Aug 2038 23:15:58 +0800 2164461358\n",
            "-1318293427\n",
            "Tue 31 Oct 2006 01:34:19 +0100\n",
            "Sat 23 Jun 2007 10:25:51 -1000\n",
            "Tue 31 Oct 2006 01:34:19 +0100 1162254859\n",
            "Sat 23 Jun 2007 10:25:51 -1000 1182630351\n",
            "-20375492\n",
            "Fri 03 Jul 2150 05:56:11 +0600\n",
            "Sat 29 Dec 2260 15:12:49 +0545\n",
            "Fri 03 Jul 2150 05:56:11 +0600 5696092571\n",
            "Sat 29 Dec 2260 15:12:49 +0545 9182885269\n",
            "-3486792698\n",
            "Fri 03 Jul 2065 01:31:24 -0300\n",
            "Tue 14 Apr 2116 02:09:21 -0700\n",
            "Fri 03 Jul 2065 01:31:24 -0300 3013821084\n",
            "Tue 14 Apr 2116 02:09:21 -0700 4616298561\n",
            "-1602477477\n",
            "Mon 25 Jul 2033 15:13:38 +0400\n",
            "Mon 11 Aug 2087 03:38:34 +1400\n",
            "Mon 25 Jul 2033 15:13:38 +0400 2005902818\n",
            "Mon 11 Aug 2087 03:38:34 +1400 3711361114\n",
            "-1705458296\n",
            "Thu 28 Jun 2170 07:23:53 +0900\n",
            "Sun 29 Apr 2260 02:29:29 +1030\n",
            "Thu 28 Jun 2170 07:23:53 +0900 6326807033\n",
            "Sun 29 Apr 2260 02:29:29 +1030 9161740769\n",
            "-2834933736\n",
            "Wed 02 Apr 2053 01:21:28 -0900\n",
            "Mon 31 Oct 2242 11:27:13 -0900\n",
            "Wed 02 Apr 2053 01:21:28 -0900 2627202088\n",
            "Mon 31 Oct 2242 11:27:13 -0900 8609747233\n",
            "-5982545145\n",
            "Fri 29 Sep 2084 02:07:10 -1000\n",
            "Sun 04 May 2183 11:28:17 -0400\n",
            "Fri 29 Sep 2084 02:07:10 -1000 3621067630\n",
            "Sun 04 May 2183 11:28:17 -0400 6732343697\n",
            "-3111276067\n",
            "Fri 12 Sep 2014 01:35:03 +0545\n",
            "Sat 23 Jan 2286 08:03:53 +0600\n",
            "Fri 12 Sep 2014 01:35:03 +0545 1410465003\n",
            "Sat 23 Jan 2286 08:03:53 +0600 9973937033\n",
            "-8563472030\n",
            "Fri 28 Apr 2209 08:14:02 +0930\n",
            "Mon 03 Sep 2204 07:26:04 +0400\n",
            "Fri 28 Apr 2209 08:14:02 +0930 7552219442\n",
            "Mon 03 Sep 2204 07:26:04 +0400 7405529164\n",
            "146690278\n",
            "Sat 17 Oct 2218 16:20:23 +0630\n",
            "Fri 10 Jul 2133 06:02:11 -0400\n",
            "Sat 17 Oct 2218 16:20:23 +0630 7851117023\n",
            "Fri 10 Jul 2133 06:02:11 -0400 5160276131\n",
            "2690840892\n",
            "Thu 24 Sep 2178 18:14:35 -0930\n",
            "Sun 16 Dec 2227 23:03:40 -1100\n",
            "Thu 24 Sep 2178 18:14:35 -0930 6586976675\n",
            "Sun 16 Dec 2227 23:03:40 -1100 8140385020\n",
            "-1553408345\n",
            "Fri 20 Mar 1992 19:32:35 +0000\n",
            "Mon 16 Apr 2181 23:46:22 +1030\n",
            "Fri 20 Mar 1992 19:32:35 +0000 701119955\n",
            "Mon 16 Apr 2181 23:46:22 +1030 6667708582\n",
            "-5966588627\n",
            "Tue 21 May 2097 14:50:40 +0800\n",
            "Sat 06 Sep 2036 20:31:27 +0545\n",
            "Tue 21 May 2097 14:50:40 +0800 4019957440\n",
            "Sat 06 Sep 2036 20:31:27 +0545 2104325187\n",
            "1915632253\n",
            "Mon 20 Sep 2088 16:37:20 -0800\n",
            "Tue 26 Apr 2112 15:53:34 -0500\n",
            "Mon 20 Sep 2088 16:37:20 -0800 3746565440\n",
            "Tue 26 Apr 2112 15:53:34 -0500 4491147214\n",
            "-744581774\n",
            "Mon 02 Mar 2048 11:39:54 -0800\n",
            "Sat 06 Jul 2261 06:47:26 +1100\n",
            "Mon 02 Mar 2048 11:39:54 -0800 2466790794\n",
            "Sat 06 Jul 2261 06:47:26 +1100 9199165646\n",
            "-6732374852\n",
            "Sat 22 Jan 1977 13:32:22 +1030\n",
            "Sat 24 Jan 2178 22:37:08 +0330\n",
            "Sat 22 Jan 1977 13:32:22 +1030 222750142\n",
            "Sat 24 Jan 2178 22:37:08 +0330 6565950428\n",
            "-6343200286\n",
            "Tue 12 Jun 2046 11:37:04 -0500\n",
            "Sat 21 May 2044 14:06:13 +1030\n",
            "Tue 12 Jun 2046 11:37:04 -0500 2412434224\n",
            "Sat 21 May 2044 14:06:13 +1030 2347414573\n",
            "65019651\n",
            "Fri 12 Oct 2063 22:07:36 +1030\n",
            "Thu 05 Jan 1984 08:58:18 +0300\n",
            "Fri 12 Oct 2063 22:07:36 +1030 2959414656\n",
            "Thu 05 Jan 1984 08:58:18 +0300 442130298\n",
            "2517284358\n",
            "Wed 18 Feb 2235 01:26:39 +1100\n",
            "Mon 01 May 2023 19:25:34 -1100\n",
            "Wed 18 Feb 2235 01:26:39 +1100 8366682399\n",
            "Mon 01 May 2023 19:25:34 -1100 1683008734\n",
            "6683673665\n",
            "Mon 20 Nov 2276 13:34:20 +0930\n",
            "Fri 15 Jun 2029 08:03:18 -1000\n",
            "Mon 20 Nov 2276 13:34:20 +0930 9684417860\n",
            "Fri 15 Jun 2029 08:03:18 -1000 1876240998\n",
            "7808176862\n",
            "Sat 31 Jan 2246 04:22:55 +0600\n",
            "Tue 26 Jul 2033 22:17:49 -0600\n",
            "Sat 31 Jan 2246 04:22:55 +0600 8712310975\n",
            "Tue 26 Jul 2033 22:17:49 -0600 2006050669\n",
            "6706260306\n",
            "Tue 02 Aug 1994 23:34:02 -0100\n",
            "Thu 12 Nov 2235 06:41:07 +1400\n",
            "Tue 02 Aug 1994 23:34:02 -0100 775874042\n",
            "Thu 12 Nov 2235 06:41:07 +1400 8389759267\n",
            "-7613885225\n",
            "Wed 25 May 2033 03:35:01 +0600\n",
            "Thu 25 Dec 2110 19:08:36 +0900\n",
            "Wed 25 May 2033 03:35:01 +0600 2000583301\n",
            "Thu 25 Dec 2110 19:08:36 +0900 4448945316\n",
            "-2448362015\n",
            "Sun 15 Mar 2009 14:05:33 -0400\n",
            "Fri 13 Jun 1980 21:28:12 +1300\n",
            "Sun 15 Mar 2009 14:05:33 -0400 1237140333\n",
            "Fri 13 Jun 1980 21:28:12 +1300 329732892\n",
            "907407441\n",
            "Thu 18 Jun 2009 18:51:53 +1400\n",
            "Tue 25 Nov 2059 18:30:23 +1000\n",
            "Thu 18 Jun 2009 18:51:53 +1400 1245300713\n",
            "Tue 25 Nov 2059 18:30:23 +1000 2836974623\n",
            "-1591673910\n",
            "Tue 18 Feb 2212 02:12:43 -0930\n",
            "Tue 06 Oct 2268 03:10:40 +0500\n",
            "Tue 18 Feb 2212 02:12:43 -0930 7640912563\n",
            "Tue 06 Oct 2268 03:10:40 +0500 9428047840\n",
            "-1787135277\n",
            "Fri 09 Jul 2286 08:53:13 +0930\n",
            "Mon 26 Feb 2142 01:15:30 +0930\n",
            "Fri 09 Jul 2286 08:53:13 +0930 9988356193\n",
            "Mon 26 Feb 2142 01:15:30 +0930 5432629530\n",
            "4555726663\n",
            "Sun 09 Jan 2022 19:02:40 +1300\n",
            "Tue 12 Aug 2059 14:07:10 +0800\n",
            "Sun 09 Jan 2022 19:02:40 +1300 1641708160\n",
            "Tue 12 Aug 2059 14:07:10 +0800 2827894030\n",
            "-1186185870\n",
            "Sat 08 Jul 2023 08:13:44 -1200\n",
            "Sun 12 Dec 2010 22:19:32 +0630\n",
            "Sat 08 Jul 2023 08:13:44 -1200 1688847224\n",
            "Sun 12 Dec 2010 22:19:32 +0630 1292168972\n",
            "396678252\n",
            "Fri 01 Jul 2050 19:10:54 -0100\n",
            "Thu 10 Apr 2138 14:59:21 -0500\n",
            "Fri 01 Jul 2050 19:10:54 -0100 2540319054\n",
            "Thu 10 Apr 2138 14:59:21 -0500 5310215961\n",
            "-2769896907\n",
            "Wed 25 Nov 2189 06:45:13 +0200\n",
            "Sat 22 Oct 2061 13:20:00 +0530\n",
            "Wed 25 Nov 2189 06:45:13 +0200 6939405913\n",
            "Sat 22 Oct 2061 13:20:00 +0530 2897193000\n",
            "4042212913\n",
            "Fri 22 Mar 1985 22:34:45 +0600\n",
            "Thu 19 Mar 2172 05:41:08 -0300\n",
            "Fri 22 Mar 1985 22:34:45 +0600 480357285\n",
            "Thu 19 Mar 2172 05:41:08 -0300 6381276068\n",
            "-5900918783\n",
            "Sat 25 Sep 1982 05:50:54 +0930\n",
            "Sun 21 Apr 2278 04:24:45 -1200\n",
            "Sat 25 Sep 1982 05:50:54 +0930 401746854\n",
            "Sun 21 Apr 2278 04:24:45 -1200 9729131085\n",
            "-9327384231\n",
            "Wed 05 Oct 2050 12:02:14 +0530\n",
            "Wed 30 Apr 2059 08:09:46 +1400\n",
            "Wed 05 Oct 2050 12:02:14 +0530 2548564334\n",
            "Wed 30 Apr 2059 08:09:46 +1400 2818865386\n",
            "-270301052\n",
            "Mon 09 Oct 2186 20:12:57 +0330\n",
            "Sat 29 Dec 2255 18:37:49 +0500\n",
            "Mon 09 Oct 2186 20:12:57 +0330 6840693777\n",
            "Sat 29 Dec 2255 18:37:49 +0500 9025047469\n",
            "-2184353692\n",
            "Tue 15 Dec 2009 07:01:49 +1300\n",
            "Sat 14 Apr 2221 02:56:39 -0930\n",
            "Tue 15 Dec 2009 07:01:49 +1300 1260813709\n",
            "Sat 14 Apr 2221 02:56:39 -0930 7929750399\n",
            "-6668936690\n",
            "Sun 29 Nov 1987 02:10:57 -0600\n",
            "Sat 25 Jun 2208 13:57:19 +0530\n",
            "Sun 29 Nov 1987 02:10:57 -0600 565171857\n",
            "Sat 25 Jun 2208 13:57:19 +0530 7525729639\n",
            "-6960557782\n",
            "Tue 26 Nov 2211 22:41:01 +0430\n",
            "Mon 01 Apr 2052 19:10:40 -0500\n",
            "Tue 26 Nov 2211 22:41:01 +0430 7633678261\n",
            "Mon 01 Apr 2052 19:10:40 -0500 2595629440\n",
            "5038048821\n",
            "Sun 07 Apr 2267 13:06:14 -0100\n",
            "Wed 22 Nov 2124 11:49:22 +0500\n",
            "Sun 07 Apr 2267 13:06:14 -0100 9380757974\n",
            "Wed 22 Nov 2124 11:49:22 +0500 4887931762\n",
            "4492826212\n",
            "Sun 16 Jun 2216 08:18:21 -0430\n",
            "Fri 13 Sep 1991 21:59:15 +0200\n",
            "Sun 16 Jun 2216 08:18:21 -0430 7777428501\n",
            "Fri 13 Sep 1991 21:59:15 +0200 684791955\n",
            "7092636546\n",
            "Tue 17 May 1977 17:24:30 +0430\n",
            "Tue 08 Jan 2019 13:31:23 +0300\n",
            "Tue 17 May 1977 17:24:30 +0430 232721670\n",
            "Tue 08 Jan 2019 13:31:23 +0300 1546943483\n",
            "-1314221813\n",
            "Fri 10 Jul 2144 06:22:53 +0930\n",
            "Sat 10 Oct 1992 15:42:54 -0400\n",
            "Fri 10 Jul 2144 06:22:53 +0930 5507383973\n",
            "Sat 10 Oct 1992 15:42:54 -0400 718746174\n",
            "4788637799\n",
            "Mon 21 Jun 2088 09:26:48 +0330\n",
            "Fri 26 Aug 2146 12:39:37 -0800\n",
            "Mon 21 Jun 2088 09:26:48 +0330 3738635808\n",
            "Fri 26 Aug 2146 12:39:37 -0800 5574602377\n",
            "-1835966569\n",
            "Sun 23 Jun 2086 03:58:25 +1100\n",
            "Tue 24 Oct 2265 19:23:42 +0100\n",
            "Sun 23 Jun 2086 03:58:25 +1100 3675603505\n",
            "Tue 24 Oct 2265 19:23:42 +0100 9334981422\n",
            "-5659377917\n",
            "Sat 25 Jun 2078 21:33:09 +0500\n",
            "Wed 14 Feb 2283 11:48:06 +0600\n",
            "Sat 25 Jun 2078 21:33:09 +0500 3423400389\n",
            "Wed 14 Feb 2283 11:48:06 +0600 9881156886\n",
            "-6457756497\n",
            "Mon 29 Dec 2223 04:13:37 +0330\n",
            "Fri 26 Dec 2036 13:42:38 +1100\n",
            "Mon 29 Dec 2223 04:13:37 +0330 8015157817\n",
            "Fri 26 Dec 2036 13:42:38 +1100 2113872158\n",
            "5901285659\n",
            "Sat 06 Aug 2061 15:39:33 -1000\n",
            "Thu 20 Nov 2223 05:28:37 -1000\n",
            "Sat 06 Aug 2061 15:39:33 -1000 2890604373\n",
            "Thu 20 Nov 2223 05:28:37 -1000 8011841317\n",
            "-5121236944\n",
            "Wed 29 Aug 2029 06:11:15 +0900\n",
            "Thu 11 Sep 2217 22:45:23 +0630\n",
            "Wed 29 Aug 2029 06:11:15 +0900 1882645875\n",
            "Thu 11 Sep 2217 22:45:23 +0630 7816493723\n",
            "-5933847848\n"
          ]
        }
      ]
    },
    {
      "cell_type": "markdown",
      "source": [
        "#Debugging: Default Arguments\n",
        "https://www.hackerrank.com/challenges/default-arguments/problem?isFullScreen=true"
      ],
      "metadata": {
        "id": "-UVR5U9TcAvd"
      }
    },
    {
      "cell_type": "code",
      "source": [
        "class EvenStream(object):\n",
        "    def __init__(self):\n",
        "        self.current = 0\n",
        "        print(\"even init\")\n",
        "\n",
        "    def get_next(self):\n",
        "        to_return = self.current\n",
        "        self.current += 2\n",
        "        return to_return\n",
        "\n",
        "class OddStream(object):\n",
        "    def __init__(self):\n",
        "        self.current = 1\n",
        "        print(\"odd init\")\n",
        "\n",
        "    def get_next(self):\n",
        "        to_return = self.current\n",
        "        self.current += 2\n",
        "        return to_return\n",
        "\n",
        "def print_from_stream(n, stream=EvenStream()):\n",
        "    for _ in range(n):\n",
        "        print(stream.get_next())\n",
        "\n",
        "\n",
        "#queries = int(input())\n",
        "queries = 4\n",
        "query_strings = \"\"\"odd 2\n",
        "odd 4\n",
        "even 2\n",
        "even 4\n",
        " \"\"\"\n",
        "for i in range(queries):\n",
        "    #stream_name, n = input().split()\n",
        "    #n = int(n)\n",
        "    stream_list = query_strings.split()\n",
        "    stream_name, n = stream_list[i*2], int(stream_list[i*2+1])\n",
        "    if stream_name == \"even\":\n",
        "        print_from_stream(n)\n",
        "        #print_from_stream(n, EvenStream())\n",
        "    else:\n",
        "        print_from_stream(n, OddStream())\n"
      ],
      "metadata": {
        "id": "dTZ4O-cMuV2g",
        "colab": {
          "base_uri": "https://localhost:8080/"
        },
        "outputId": "df11de99-4120-4aeb-e188-20de5de41df0"
      },
      "execution_count": null,
      "outputs": [
        {
          "output_type": "stream",
          "name": "stdout",
          "text": [
            "even init\n",
            "odd init\n",
            "1\n",
            "3\n",
            "odd init\n",
            "1\n",
            "3\n",
            "5\n",
            "7\n",
            "0\n",
            "2\n",
            "4\n",
            "6\n",
            "8\n",
            "10\n"
          ]
        }
      ]
    },
    {
      "cell_type": "code",
      "source": [
        ""
      ],
      "metadata": {
        "id": "lkmFYWWEchXu"
      },
      "execution_count": null,
      "outputs": []
    }
  ]
}