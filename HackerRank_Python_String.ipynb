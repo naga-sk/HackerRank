{
  "nbformat": 4,
  "nbformat_minor": 0,
  "metadata": {
    "colab": {
      "name": "HackerRank-Python-String.ipynb",
      "provenance": [],
      "collapsed_sections": [],
      "authorship_tag": "ABX9TyPrxV3EghcdxRwwGeIkuKFA",
      "include_colab_link": true
    },
    "kernelspec": {
      "name": "python3",
      "display_name": "Python 3"
    },
    "language_info": {
      "name": "python"
    }
  },
  "cells": [
    {
      "cell_type": "markdown",
      "metadata": {
        "id": "view-in-github",
        "colab_type": "text"
      },
      "source": [
        "<a href=\"https://colab.research.google.com/github/naga-sk/HackerRank-Python/blob/main/HackerRank_Python_String.ipynb\" target=\"_parent\"><img src=\"https://colab.research.google.com/assets/colab-badge.svg\" alt=\"Open In Colab\"/></a>"
      ]
    },
    {
      "cell_type": "markdown",
      "source": [
        "# sWAP cASE\n",
        "https://www.hackerrank.com/challenges/swap-case/problem?isFullScreen=true"
      ],
      "metadata": {
        "id": "SZgQ-aC4A9GG"
      }
    },
    {
      "cell_type": "code",
      "execution_count": null,
      "metadata": {
        "colab": {
          "base_uri": "https://localhost:8080/"
        },
        "id": "btZQka_YANpm",
        "outputId": "5e94adc4-5390-412c-b83e-0b40686ca24d"
      },
      "outputs": [
        {
          "output_type": "stream",
          "name": "stdout",
          "text": [
            "Vinnaithaandi Varuvaya\n",
            "vINNAITHAANDI vARUVAYA\n"
          ]
        }
      ],
      "source": [
        "def swap_case(s):\n",
        "    return s.swapcase() # Just return the in-built string function swapcase() to swap the case\n",
        "\n",
        "# *** code below this line was provided in HackerRank ***\n",
        "if __name__ == '__main__':\n",
        "    s = input()\n",
        "    result = swap_case(s)\n",
        "    print(result)"
      ]
    },
    {
      "cell_type": "markdown",
      "source": [
        "# String Split and Join\n",
        "https://www.hackerrank.com/challenges/python-string-split-and-join/problem?isFullScreen=true"
      ],
      "metadata": {
        "id": "xdiZs33iA_xV"
      }
    },
    {
      "cell_type": "code",
      "source": [
        "def split_and_join(line):\n",
        "    # There are 2 string functions used in this return statment\n",
        "    # First is the use of split() function to get all the string tokens separated by space in the argument. \n",
        "    #   Same as >>> line = line.split(\" \")\n",
        "    # Second is the re-construction of the return string by using join() to concatenate the string tokens with '-'. \n",
        "    #   Same as >>> line = \"-\".join(line)\n",
        "    return \"-\".join(line.split(\" \")) \n",
        "\n",
        "# *** code below this line was provided in HackerRank ***\n",
        "if __name__ == '__main__':\n",
        "    line = input()\n",
        "    result = split_and_join(line)\n",
        "    print(result)"
      ],
      "metadata": {
        "colab": {
          "base_uri": "https://localhost:8080/"
        },
        "id": "2o_fX64WBQEO",
        "outputId": "aa46ea92-027c-46e5-8ea0-5f56f257711f"
      },
      "execution_count": null,
      "outputs": [
        {
          "output_type": "stream",
          "name": "stdout",
          "text": [
            "I am great\n",
            "I-am-great\n"
          ]
        }
      ]
    },
    {
      "cell_type": "markdown",
      "source": [
        "# What's your name?\n",
        "https://www.hackerrank.com/challenges/whats-your-name/problem?isFullScreen=true"
      ],
      "metadata": {
        "id": "Y9XEqPrcBAWW"
      }
    },
    {
      "cell_type": "code",
      "source": [
        "def print_full_name(first, last):\n",
        "    # Method 1 (Preferred, intuitive): Notice the use of print(f\"\") in-built function which\n",
        "    # formats the print output with {first} and {last} names received as arguments to the function\n",
        "    print (f\"Hello {first} {last}! You just delved into python.\")\n",
        "    return\n",
        "\n",
        "# *** code below this line was provided in HackerRank ***\n",
        "if __name__ == '__main__':\n",
        "    first_name = input()\n",
        "    last_name = input()\n",
        "    print_full_name(first_name, last_name)"
      ],
      "metadata": {
        "colab": {
          "base_uri": "https://localhost:8080/"
        },
        "id": "QniFWyIBC_6Y",
        "outputId": "84ff0081-1cc3-4011-a2f0-6e93dea5872a"
      },
      "execution_count": null,
      "outputs": [
        {
          "output_type": "stream",
          "name": "stdout",
          "text": [
            "a\n",
            "b\n",
            "Hello a b! You just delved into python.\n"
          ]
        }
      ]
    },
    {
      "cell_type": "code",
      "source": [
        "def print_full_name(first, last):\n",
        "    # Method 2 (requires a bit more care into constructing the final output): \n",
        "    # Concatenating first and last names with the output string\n",
        "    print (\"Hello \" + first + \" \" + last + \"! You just delved into python.\")\n",
        "    return\n",
        "\n",
        "if __name__ == '__main__':\n",
        "    first_name = input()\n",
        "    last_name = input()\n",
        "    print_full_name(first_name, last_name)"
      ],
      "metadata": {
        "colab": {
          "base_uri": "https://localhost:8080/"
        },
        "id": "xfmce2RDBQvs",
        "outputId": "ab1b40f4-9338-49c6-a9f5-442edd86683f"
      },
      "execution_count": null,
      "outputs": [
        {
          "output_type": "stream",
          "name": "stdout",
          "text": [
            "a\n",
            "b\n",
            "Hello a b! You just delved into python.\n"
          ]
        }
      ]
    },
    {
      "cell_type": "markdown",
      "source": [
        "# Mutations\n",
        "https://www.hackerrank.com/challenges/python-mutations/problem?isFullScreen=true"
      ],
      "metadata": {
        "id": "1R-cgBtDBAXt"
      }
    },
    {
      "cell_type": "code",
      "source": [
        "def mutate_string(string, position, character):\n",
        "    # Method 1: This approach was provided in the problem itself\n",
        "    \n",
        "    # First break down each character of the string to a list\n",
        "    thisString = list(string)\n",
        "\n",
        "    # Insert the character received in the argument in the position received in the argument\n",
        "    thisString[position] = character\n",
        "\n",
        "    # Use join function to conver the list back to a string, and return it\n",
        "    return ''.join(thisString)\n",
        "\n",
        "# *** code below this line was provided in HackerRank ***\n",
        "if __name__ == '__main__':\n",
        "    s = input()\n",
        "    i, c = input().split()\n",
        "    s_new = mutate_string(s, int(i), c)\n",
        "    print(s_new)"
      ],
      "metadata": {
        "colab": {
          "base_uri": "https://localhost:8080/"
        },
        "id": "vnt9OffNBAl-",
        "outputId": "b3514d4e-6f1a-4242-9450-e78bfbc27f6f"
      },
      "execution_count": null,
      "outputs": [
        {
          "output_type": "stream",
          "name": "stdout",
          "text": [
            "How are you?\n",
            "3 -\n",
            "How-are you?\n"
          ]
        }
      ]
    },
    {
      "cell_type": "code",
      "source": [
        "def mutate_string(string, position, character):\n",
        "    # Method 2: This alternate approach was ALSO provided in the problem itself\n",
        "\n",
        "    # Split the string based on the position and concatenate with the character in between the split strings\n",
        "    return string[:position] + character + string[position+1:]\n",
        "\n",
        "# *** code below this line was provided in HackerRank ***\n",
        "if __name__ == '__main__':\n",
        "    s = input()\n",
        "    i, c = input().split()\n",
        "    s_new = mutate_string(s, int(i), c)\n",
        "    print(s_new)"
      ],
      "metadata": {
        "colab": {
          "base_uri": "https://localhost:8080/"
        },
        "id": "zNVctk7xEe5v",
        "outputId": "50534444-7677-454e-c91f-05861e9d122c"
      },
      "execution_count": null,
      "outputs": [
        {
          "output_type": "stream",
          "name": "stdout",
          "text": [
            "How are you?\n",
            "3 -\n",
            "How-are you?\n"
          ]
        }
      ]
    },
    {
      "cell_type": "markdown",
      "source": [
        "# Find a string\n",
        "https://www.hackerrank.com/challenges/find-a-string/problem?isFullScreen=true"
      ],
      "metadata": {
        "id": "3Rn2oB42BAxr"
      }
    },
    {
      "cell_type": "code",
      "source": [
        "def count_substring(string, sub_string):\n",
        "    \n",
        "    # Note that the use of string function count() is not useful here because it \n",
        "    # cannot find overlapping substrings\n",
        "    # Overlapping substring eg: the substring 'bub' occurs twice in the string 'bubub' \n",
        "    # and it overlaps on each other\n",
        "\n",
        "    # Variable to find the next occurence of sub_string in string. \n",
        "    # Initialize this to 0 to start the search at the start of the string (index = 0)\n",
        "    sub_str_index = 0 \n",
        "\n",
        "    # Variable to count the number of occurence of the sub_string in string\n",
        "    count = 0 \n",
        "    \n",
        "    # Just start a while loop. We can break if we can't find any substring\n",
        "    while True:\n",
        "        # find the position where the substring occurs next\n",
        "        sub_str_index = string.find(sub_string)\n",
        "        #print(sub_str_index) # for debugging\n",
        "\n",
        "        # if the substring is found, the index value should be 0 or above. \n",
        "        #   Then, increment the count\n",
        "        if (sub_str_index >= 0): \n",
        "            count += 1   \n",
        "\n",
        "        # If a substring is not found, the index value will be -1. \n",
        "        #   Then, break the loop as there is nothing to search anymore\n",
        "        else: \n",
        "            break\n",
        "\n",
        "        # Shorten the string to start from the next character where the previous substring for found\n",
        "        # for example, if searching for 'bub' in 'bubub', start the next search with 'ubub'\n",
        "        string = string[sub_str_index+1:]\n",
        "        #print(string) # for debugging\n",
        "        \n",
        "    return count\n",
        "\n",
        "# *** code below this line was provided in HackerRank ***\n",
        "\n",
        "if __name__ == '__main__':\n",
        "    string = input().strip()\n",
        "    sub_string = input().strip()\n",
        "    \n",
        "    count = count_substring(string, sub_string)\n",
        "    print(count)"
      ],
      "metadata": {
        "colab": {
          "base_uri": "https://localhost:8080/"
        },
        "id": "GSLIM21JBA9J",
        "outputId": "bd513bc4-460a-4f5a-892e-960c62a6694f"
      },
      "execution_count": null,
      "outputs": [
        {
          "output_type": "stream",
          "name": "stdout",
          "text": [
            "mmminimumm\n",
            "mm\n",
            "3\n"
          ]
        }
      ]
    },
    {
      "cell_type": "markdown",
      "source": [
        "# String Validators\n",
        "https://www.hackerrank.com/challenges/string-validators/problem?isFullScreen=true"
      ],
      "metadata": {
        "id": "fx3YpYB0BBGr"
      }
    },
    {
      "cell_type": "code",
      "source": [
        "if __name__ == '__main__':\n",
        "    s = input()\n",
        "\n",
        "# ^^^ code above this line was provided in HackerRank ^^^\n",
        "\n",
        "    # Method 1: This is a slightly longer approach, but if are absolutely new to python\n",
        "    # this will be understandable as we are splitting the operations into its own line\n",
        "\n",
        "    # initialize all variables to False\n",
        "    alnum = False\n",
        "    alpha = False\n",
        "    digit = False\n",
        "    lower = False\n",
        "    upper = False\n",
        "    \n",
        "    # There are 2 distinct operations here\n",
        "    # 1. Splitting the string into individial characters using \"for <char> in <string>\"\n",
        "    # 2. Checking if the boolean function is true for each character\n",
        "    # Even if there is one character that matches, update the variable to True\n",
        "    for char in s:\n",
        "    \n",
        "    # This checks if there is at least one character that is alphanumeric [a-z] [A-Z] [0-9]\n",
        "      if not(alnum) and char.isalnum(): alnum = True\n",
        "\n",
        "    # This checks if there is at least one character that is alphabet [a-z] [A-Z]    \n",
        "      if not(alpha) and char.isalpha(): alpha = True\n",
        "\n",
        "    # This checks if there is at least one character that is digit [0-9]\n",
        "      if not(digit) and char.isdigit(): digit = True\n",
        "\n",
        "    # This checks if there is at least one character that is lower case alphabet [a-z]\n",
        "      if not(lower) and char.islower(): lower = True\n",
        "\n",
        "    # This checks if there is at least one character that is upper case alphabet [A-Z]\n",
        "      if not(upper) and char.isupper(): upper = True\n",
        "\n",
        "    print (alnum)\n",
        "    print (alpha)\n",
        "    print (digit)\n",
        "    print (lower)\n",
        "    print (upper)\n"
      ],
      "metadata": {
        "id": "VGqm1kELlOJY",
        "colab": {
          "base_uri": "https://localhost:8080/"
        },
        "outputId": "4f1683e7-39c3-4bb1-e590-62d1bd2d973b"
      },
      "execution_count": null,
      "outputs": [
        {
          "output_type": "stream",
          "name": "stdout",
          "text": [
            "Q2a\n",
            "True\n",
            "True\n",
            "True\n",
            "True\n",
            "True\n"
          ]
        }
      ]
    },
    {
      "cell_type": "code",
      "source": [
        "if __name__ == '__main__':\n",
        "    s = input()\n",
        "\n",
        "# ^^^ code above this line was provided in HackerRank ^^^\n",
        "\n",
        "    # Method 2: This one if more efficient but a bit advanced. \n",
        "    # Efficiency means not only faster execution, but also conserving memory by \n",
        "    # creating as few objects as possible\n",
        "\n",
        "    # In the problem, it asks to check if \"any\" of the characters in the \n",
        "    # input string is alphanumeric which means whether it has at least \n",
        "    # one character that is [a-z] [A-Z [0-9]]\n",
        "    # There are 4 distinct operations here\n",
        "    # 1. Splitting the string into individial characters using \"for <char> in <string>\"\n",
        "    # 2. Getting the boolen result of \"<char>.isalnum()\"\" for each character\n",
        "    # 3. Creating a LIST of boolean results with the square brackets []  enveloping \"<char>.isalnum() for <char> in <string>\n",
        "    # 4. Applying the any() built-in function - This will return true if any of the characters is alphanumeric\n",
        "    print(any([char.isalnum() for char in s]));\n",
        "    \n",
        "    # This checks if there is at least one character that is alphabet [a-z] [A-Z]\n",
        "    print(any([char.isalpha() for char in s]));\n",
        "    \n",
        "    # This checks if there is at least one character that is digit [0-9]\n",
        "    print(any([char.isdigit() for char in s]));\n",
        "    \n",
        "    # This checks if there is at least one character that is lower case alphabet [a-z]\n",
        "    print(any([char.islower() for char in s]));\n",
        "    \n",
        "    # This checks if there is at least one character that is upper case alphabet [A-Z]\n",
        "    print(any([char.isupper() for char in s]));\n",
        "    "
      ],
      "metadata": {
        "id": "dCXbk6y2BRw-"
      },
      "execution_count": null,
      "outputs": []
    },
    {
      "cell_type": "markdown",
      "source": [
        ""
      ],
      "metadata": {
        "id": "VGph491NBBHy"
      }
    },
    {
      "cell_type": "code",
      "source": [
        ""
      ],
      "metadata": {
        "id": "NWbIwGAABBZ8"
      },
      "execution_count": null,
      "outputs": []
    }
  ]
}